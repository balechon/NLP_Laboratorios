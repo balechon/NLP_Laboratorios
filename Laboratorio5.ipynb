{
 "cells": [
  {
   "metadata": {},
   "cell_type": "markdown",
   "source": "# Lab - RNNs, LSTMs and GRUs",
   "id": "d605a64185787cc2"
  },
  {
   "metadata": {},
   "cell_type": "markdown",
   "source": [
    "## Integrantes\n",
    "- Jose Asitimbay\n",
    "- Brayan Lechon"
   ],
   "id": "fe99bc433ed543ac"
  },
  {
   "metadata": {},
   "cell_type": "markdown",
   "source": [
    "# Activities\n",
    "\n",
    "Repeat the sentiment analysis exercise from Lab 2. For this one you will consider the following models:\n",
    "\n",
    "- RNN\n",
    "- LSTM\n",
    "- GRU\n",
    "\n",
    "Compare the results with each other and the Naive Bayes model obtained in Lab 2. The group with the best weighted F1 score gets 3 extra points to the final grade, the second best get 2 points, and the third gets 1 point. \n",
    "\n",
    "To simplify, consider only 3 categories: negative, neutral and positive."
   ],
   "id": "ec670e63d791849b"
  },
  {
   "cell_type": "code",
   "id": "128217ab-576d-4f99-8feb-58ba99319da9",
   "metadata": {
    "ExecuteTime": {
     "end_time": "2024-09-07T03:09:37.913343Z",
     "start_time": "2024-09-07T03:09:37.879555Z"
    }
   },
   "source": [
    "import pandas as pd\n",
    "import numpy as np\n",
    "from collections import Counter\n",
    "import re\n",
    "\n",
    "import torch\n",
    "import torch.nn as nn\n",
    "import torch.nn.functional as F\n",
    "from torch.utils.data import Dataset, DataLoader, DataLoader,random_split\n",
    "import torch.optim as optim\n",
    "\n",
    "\n",
    "from sklearn.metrics import confusion_matrix, classification_report, accuracy_score\n",
    "from sklearn.model_selection import train_test_split\n",
    "from sklearn.metrics import confusion_matrix, classification_report\n",
    "\n",
    "import matplotlib.pyplot as plt\n",
    "import seaborn as sns\n",
    "\n",
    "from nltk.corpus import stopwords\n",
    "from nltk.tokenize import word_tokenize\n",
    "\n",
    "from tqdm.auto import tqdm\n",
    "\n",
    "\n",
    "import nltk\n",
    "# Descargar el tokenizador de NLTK si no está ya descargado\n",
    "# nltk.download('punkt')\n",
    "# nltk.download('punkt_base')\n",
    "\n",
    "# hide warnings\n",
    "import warnings\n",
    "warnings.filterwarnings('ignore')"
   ],
   "outputs": [],
   "execution_count": 39
  },
  {
   "metadata": {},
   "cell_type": "markdown",
   "source": "adaptamos el codigo para que funcione con cuda",
   "id": "140537a47d671c34"
  },
  {
   "cell_type": "code",
   "id": "350e7724-8d7c-40f2-ac7f-07000c10f38d",
   "metadata": {
    "ExecuteTime": {
     "end_time": "2024-09-07T03:09:38.194564Z",
     "start_time": "2024-09-07T03:09:38.186435Z"
    }
   },
   "source": [
    "if torch.cuda.is_available():\n",
    "    device = torch.device(\"cuda\")\n",
    "    x = torch.ones(1, device=device)\n",
    "    print(f\"GPU encontrada: {torch.cuda.get_device_name(0)}\")"
   ],
   "outputs": [
    {
     "name": "stdout",
     "output_type": "stream",
     "text": [
      "GPU encontrada: NVIDIA GeForce RTX 4060 Laptop GPU\n"
     ]
    }
   ],
   "execution_count": 40
  },
  {
   "metadata": {},
   "cell_type": "markdown",
   "source": "## Dataset",
   "id": "564139321a039a38"
  },
  {
   "metadata": {
    "ExecuteTime": {
     "end_time": "2024-09-07T03:09:38.459426Z",
     "start_time": "2024-09-07T03:09:38.195573Z"
    }
   },
   "cell_type": "code",
   "source": [
    "df = pd.read_csv('./data/train.tsv.zip', sep='\\t')\n",
    "df_criticas = df[['Phrase', 'Sentiment']].copy(deep=True)\n",
    "print(df_criticas.shape)\n",
    "df_criticas.head()\n"
   ],
   "id": "109c28cfbfb56d6f",
   "outputs": [
    {
     "name": "stdout",
     "output_type": "stream",
     "text": [
      "(156060, 2)\n"
     ]
    },
    {
     "data": {
      "text/plain": [
       "                                              Phrase  Sentiment\n",
       "0  A series of escapades demonstrating the adage ...          1\n",
       "1  A series of escapades demonstrating the adage ...          2\n",
       "2                                           A series          2\n",
       "3                                                  A          2\n",
       "4                                             series          2"
      ],
      "text/html": [
       "<div>\n",
       "<style scoped>\n",
       "    .dataframe tbody tr th:only-of-type {\n",
       "        vertical-align: middle;\n",
       "    }\n",
       "\n",
       "    .dataframe tbody tr th {\n",
       "        vertical-align: top;\n",
       "    }\n",
       "\n",
       "    .dataframe thead th {\n",
       "        text-align: right;\n",
       "    }\n",
       "</style>\n",
       "<table border=\"1\" class=\"dataframe\">\n",
       "  <thead>\n",
       "    <tr style=\"text-align: right;\">\n",
       "      <th></th>\n",
       "      <th>Phrase</th>\n",
       "      <th>Sentiment</th>\n",
       "    </tr>\n",
       "  </thead>\n",
       "  <tbody>\n",
       "    <tr>\n",
       "      <th>0</th>\n",
       "      <td>A series of escapades demonstrating the adage ...</td>\n",
       "      <td>1</td>\n",
       "    </tr>\n",
       "    <tr>\n",
       "      <th>1</th>\n",
       "      <td>A series of escapades demonstrating the adage ...</td>\n",
       "      <td>2</td>\n",
       "    </tr>\n",
       "    <tr>\n",
       "      <th>2</th>\n",
       "      <td>A series</td>\n",
       "      <td>2</td>\n",
       "    </tr>\n",
       "    <tr>\n",
       "      <th>3</th>\n",
       "      <td>A</td>\n",
       "      <td>2</td>\n",
       "    </tr>\n",
       "    <tr>\n",
       "      <th>4</th>\n",
       "      <td>series</td>\n",
       "      <td>2</td>\n",
       "    </tr>\n",
       "  </tbody>\n",
       "</table>\n",
       "</div>"
      ]
     },
     "execution_count": 41,
     "metadata": {},
     "output_type": "execute_result"
    }
   ],
   "execution_count": 41
  },
  {
   "metadata": {},
   "cell_type": "markdown",
   "source": "agrupamos los sentimientos en 3 categorias",
   "id": "aed9322e11d2ce4e"
  },
  {
   "metadata": {
    "ExecuteTime": {
     "end_time": "2024-09-07T03:09:38.525257Z",
     "start_time": "2024-09-07T03:09:38.461646Z"
    }
   },
   "cell_type": "code",
   "source": [
    "def sentiment_label(sentiment):\n",
    "    if sentiment <= 1:\n",
    "        return 0\n",
    "    elif sentiment == 2:\n",
    "        return 1\n",
    "    else:\n",
    "        return 2\n",
    "\n",
    "df_criticas['Sentiment'] = df['Sentiment'].apply(sentiment_label)\n",
    "df_criticas['Sentiment_label'] = df_criticas['Sentiment'].map({0: 'negative', 1: 'neutral', 2: 'positive'})"
   ],
   "id": "ab86595b8c7e4c34",
   "outputs": [],
   "execution_count": 42
  },
  {
   "metadata": {
    "ExecuteTime": {
     "end_time": "2024-09-07T03:09:39.009300Z",
     "start_time": "2024-09-07T03:09:38.526344Z"
    }
   },
   "cell_type": "code",
   "source": [
    "# boxplot of the length of the phrases by sentiment\n",
    "df_criticas['Phrase'] = df_criticas['Phrase'].astype(str)\n",
    "df_criticas['len'] = df_criticas['Phrase'].apply(lambda x: len(x.split()))\n",
    "df_criticas.boxplot(column='len', by='Sentiment_label', figsize=(10, 6))\n"
   ],
   "id": "4c6ff6f441ff3c06",
   "outputs": [
    {
     "data": {
      "text/plain": [
       "<Axes: title={'center': 'len'}, xlabel='Sentiment_label'>"
      ]
     },
     "execution_count": 43,
     "metadata": {},
     "output_type": "execute_result"
    },
    {
     "data": {
      "text/plain": [
       "<Figure size 1000x600 with 1 Axes>"
      ],
      "image/png": "[encoded data removed]"
     },
     "metadata": {},
     "output_type": "display_data"
    }
   ],
   "execution_count": 43
  },
  {
   "metadata": {},
   "cell_type": "markdown",
   "source": "",
   "id": "fb65e8dc38a5b7cf"
  },
  {
   "metadata": {},
   "cell_type": "markdown",
   "source": "### Preprocesamiento de texto",
   "id": "918ac38e865d3cb9"
  },
  {
   "metadata": {},
   "cell_type": "markdown",
   "source": "tokens del texto con una limpeza eliminando signos de puntuación y convirtiendo el texto a minúsculas",
   "id": "d03696220398e4db"
  },
  {
   "metadata": {
    "ExecuteTime": {
     "end_time": "2024-09-07T03:09:40.259916Z",
     "start_time": "2024-09-07T03:09:39.011934Z"
    }
   },
   "cell_type": "code",
   "source": [
    "stop_words = set(stopwords.words('english'))\n",
    "\n",
    "def clean_text(text):\n",
    "    text = text.lower()\n",
    "    text = re.sub(r'[^\\w\\s]','',text)    \n",
    "    return tokenizer(text)\n",
    "\n",
    "def tokenizer(text):\n",
    "    tokens = [word for word in text.split() if word.lower() not in stop_words]\n",
    "    return tokens\n",
    "\n",
    "df_criticas['Text'] = df_criticas['Phrase'].apply(clean_text)\n",
    "\n",
    "# filter phrases with less than 2 words"
   ],
   "id": "a6eee3890977dc8a",
   "outputs": [],
   "execution_count": 44
  },
  {
   "metadata": {},
   "cell_type": "markdown",
   "source": "filtramos a las frases con menos de 2 palabras",
   "id": "9e8f27d6ddf09f66"
  },
  {
   "metadata": {
    "ExecuteTime": {
     "end_time": "2024-09-07T03:09:40.324827Z",
     "start_time": "2024-09-07T03:09:40.261927Z"
    }
   },
   "cell_type": "code",
   "source": [
    "df_criticas['n_words'] = df_criticas['Text'].apply(len)\n",
    "df_criticas = df_criticas[df_criticas['n_words'] > 2]\n",
    "\n",
    "df_criticas.shape"
   ],
   "id": "9274f72fa7b4fef5",
   "outputs": [
    {
     "data": {
      "text/plain": [
       "(82196, 6)"
      ]
     },
     "execution_count": 45,
     "metadata": {},
     "output_type": "execute_result"
    }
   ],
   "execution_count": 45
  },
  {
   "metadata": {},
   "cell_type": "markdown",
   "source": "con el filtrado realizado tendríamos respuestas que aportan un valor significativo",
   "id": "e2ad96403e434248"
  },
  {
   "metadata": {
    "ExecuteTime": {
     "end_time": "2024-09-07T03:09:40.340246Z",
     "start_time": "2024-09-07T03:09:40.326811Z"
    }
   },
   "cell_type": "code",
   "source": "df_criticas.head(20)",
   "id": "eef8848c0a0def55",
   "outputs": [
    {
     "data": {
      "text/plain": [
       "                                               Phrase  Sentiment  \\\n",
       "0   A series of escapades demonstrating the adage ...          0   \n",
       "1   A series of escapades demonstrating the adage ...          1   \n",
       "5   of escapades demonstrating the adage that what...          1   \n",
       "7   escapades demonstrating the adage that what is...          1   \n",
       "9   demonstrating the adage that what is good for ...          1   \n",
       "27  is also good for the gander , some of which oc...          1   \n",
       "28  is also good for the gander , some of which oc...          1   \n",
       "31  good for the gander , some of which occasional...          1   \n",
       "32  for the gander , some of which occasionally am...          1   \n",
       "33  the gander , some of which occasionally amuses...          0   \n",
       "38  some of which occasionally amuses but none of ...          1   \n",
       "43  occasionally amuses but none of which amounts ...          1   \n",
       "45  amuses but none of which amounts to much of a ...          1   \n",
       "47       but none of which amounts to much of a story          0   \n",
       "49           none of which amounts to much of a story          0   \n",
       "51                of which amounts to much of a story          1   \n",
       "52                   which amounts to much of a story          1   \n",
       "53                         amounts to much of a story          1   \n",
       "63  This quiet , introspective and entertaining in...          2   \n",
       "64  This quiet , introspective and entertaining in...          2   \n",
       "\n",
       "   Sentiment_label  len                                               Text  \\\n",
       "0         negative   37  [series, escapades, demonstrating, adage, good...   \n",
       "1          neutral   14  [series, escapades, demonstrating, adage, good...   \n",
       "5          neutral   12     [escapades, demonstrating, adage, good, goose]   \n",
       "7          neutral   11     [escapades, demonstrating, adage, good, goose]   \n",
       "9          neutral   10                [demonstrating, adage, good, goose]   \n",
       "27         neutral   23  [also, good, gander, occasionally, amuses, non...   \n",
       "28         neutral   22  [also, good, gander, occasionally, amuses, non...   \n",
       "31         neutral   20  [good, gander, occasionally, amuses, none, amo...   \n",
       "32         neutral   19  [gander, occasionally, amuses, none, amounts, ...   \n",
       "33        negative   18  [gander, occasionally, amuses, none, amounts, ...   \n",
       "38         neutral   15  [occasionally, amuses, none, amounts, much, st...   \n",
       "43         neutral   12  [occasionally, amuses, none, amounts, much, st...   \n",
       "45         neutral   11               [amuses, none, amounts, much, story]   \n",
       "47        negative   10                       [none, amounts, much, story]   \n",
       "49        negative    9                       [none, amounts, much, story]   \n",
       "51         neutral    8                             [amounts, much, story]   \n",
       "52         neutral    7                             [amounts, much, story]   \n",
       "53         neutral    6                             [amounts, much, story]   \n",
       "63        positive   11  [quiet, introspective, entertaining, independe...   \n",
       "64        positive    7  [quiet, introspective, entertaining, independent]   \n",
       "\n",
       "    n_words  \n",
       "0        15  \n",
       "1         6  \n",
       "5         5  \n",
       "7         5  \n",
       "9         4  \n",
       "27        9  \n",
       "28        9  \n",
       "31        8  \n",
       "32        7  \n",
       "33        7  \n",
       "38        6  \n",
       "43        6  \n",
       "45        5  \n",
       "47        4  \n",
       "49        4  \n",
       "51        3  \n",
       "52        3  \n",
       "53        3  \n",
       "63        6  \n",
       "64        4  "
      ],
      "text/html": [
       "<div>\n",
       "<style scoped>\n",
       "    .dataframe tbody tr th:only-of-type {\n",
       "        vertical-align: middle;\n",
       "    }\n",
       "\n",
       "    .dataframe tbody tr th {\n",
       "        vertical-align: top;\n",
       "    }\n",
       "\n",
       "    .dataframe thead th {\n",
       "        text-align: right;\n",
       "    }\n",
       "</style>\n",
       "<table border=\"1\" class=\"dataframe\">\n",
       "  <thead>\n",
       "    <tr style=\"text-align: right;\">\n",
       "      <th></th>\n",
       "      <th>Phrase</th>\n",
       "      <th>Sentiment</th>\n",
       "      <th>Sentiment_label</th>\n",
       "      <th>len</th>\n",
       "      <th>Text</th>\n",
       "      <th>n_words</th>\n",
       "    </tr>\n",
       "  </thead>\n",
       "  <tbody>\n",
       "    <tr>\n",
       "      <th>0</th>\n",
       "      <td>A series of escapades demonstrating the adage ...</td>\n",
       "      <td>0</td>\n",
       "      <td>negative</td>\n",
       "      <td>37</td>\n",
       "      <td>[series, escapades, demonstrating, adage, good...</td>\n",
       "      <td>15</td>\n",
       "    </tr>\n",
       "    <tr>\n",
       "      <th>1</th>\n",
       "      <td>A series of escapades demonstrating the adage ...</td>\n",
       "      <td>1</td>\n",
       "      <td>neutral</td>\n",
       "      <td>14</td>\n",
       "      <td>[series, escapades, demonstrating, adage, good...</td>\n",
       "      <td>6</td>\n",
       "    </tr>\n",
       "    <tr>\n",
       "      <th>5</th>\n",
       "      <td>of escapades demonstrating the adage that what...</td>\n",
       "      <td>1</td>\n",
       "      <td>neutral</td>\n",
       "      <td>12</td>\n",
       "      <td>[escapades, demonstrating, adage, good, goose]</td>\n",
       "      <td>5</td>\n",
       "    </tr>\n",
       "    <tr>\n",
       "      <th>7</th>\n",
       "      <td>escapades demonstrating the adage that what is...</td>\n",
       "      <td>1</td>\n",
       "      <td>neutral</td>\n",
       "      <td>11</td>\n",
       "      <td>[escapades, demonstrating, adage, good, goose]</td>\n",
       "      <td>5</td>\n",
       "    </tr>\n",
       "    <tr>\n",
       "      <th>9</th>\n",
       "      <td>demonstrating the adage that what is good for ...</td>\n",
       "      <td>1</td>\n",
       "      <td>neutral</td>\n",
       "      <td>10</td>\n",
       "      <td>[demonstrating, adage, good, goose]</td>\n",
       "      <td>4</td>\n",
       "    </tr>\n",
       "    <tr>\n",
       "      <th>27</th>\n",
       "      <td>is also good for the gander , some of which oc...</td>\n",
       "      <td>1</td>\n",
       "      <td>neutral</td>\n",
       "      <td>23</td>\n",
       "      <td>[also, good, gander, occasionally, amuses, non...</td>\n",
       "      <td>9</td>\n",
       "    </tr>\n",
       "    <tr>\n",
       "      <th>28</th>\n",
       "      <td>is also good for the gander , some of which oc...</td>\n",
       "      <td>1</td>\n",
       "      <td>neutral</td>\n",
       "      <td>22</td>\n",
       "      <td>[also, good, gander, occasionally, amuses, non...</td>\n",
       "      <td>9</td>\n",
       "    </tr>\n",
       "    <tr>\n",
       "      <th>31</th>\n",
       "      <td>good for the gander , some of which occasional...</td>\n",
       "      <td>1</td>\n",
       "      <td>neutral</td>\n",
       "      <td>20</td>\n",
       "      <td>[good, gander, occasionally, amuses, none, amo...</td>\n",
       "      <td>8</td>\n",
       "    </tr>\n",
       "    <tr>\n",
       "      <th>32</th>\n",
       "      <td>for the gander , some of which occasionally am...</td>\n",
       "      <td>1</td>\n",
       "      <td>neutral</td>\n",
       "      <td>19</td>\n",
       "      <td>[gander, occasionally, amuses, none, amounts, ...</td>\n",
       "      <td>7</td>\n",
       "    </tr>\n",
       "    <tr>\n",
       "      <th>33</th>\n",
       "      <td>the gander , some of which occasionally amuses...</td>\n",
       "      <td>0</td>\n",
       "      <td>negative</td>\n",
       "      <td>18</td>\n",
       "      <td>[gander, occasionally, amuses, none, amounts, ...</td>\n",
       "      <td>7</td>\n",
       "    </tr>\n",
       "    <tr>\n",
       "      <th>38</th>\n",
       "      <td>some of which occasionally amuses but none of ...</td>\n",
       "      <td>1</td>\n",
       "      <td>neutral</td>\n",
       "      <td>15</td>\n",
       "      <td>[occasionally, amuses, none, amounts, much, st...</td>\n",
       "      <td>6</td>\n",
       "    </tr>\n",
       "    <tr>\n",
       "      <th>43</th>\n",
       "      <td>occasionally amuses but none of which amounts ...</td>\n",
       "      <td>1</td>\n",
       "      <td>neutral</td>\n",
       "      <td>12</td>\n",
       "      <td>[occasionally, amuses, none, amounts, much, st...</td>\n",
       "      <td>6</td>\n",
       "    </tr>\n",
       "    <tr>\n",
       "      <th>45</th>\n",
       "      <td>amuses but none of which amounts to much of a ...</td>\n",
       "      <td>1</td>\n",
       "      <td>neutral</td>\n",
       "      <td>11</td>\n",
       "      <td>[amuses, none, amounts, much, story]</td>\n",
       "      <td>5</td>\n",
       "    </tr>\n",
       "    <tr>\n",
       "      <th>47</th>\n",
       "      <td>but none of which amounts to much of a story</td>\n",
       "      <td>0</td>\n",
       "      <td>negative</td>\n",
       "      <td>10</td>\n",
       "      <td>[none, amounts, much, story]</td>\n",
       "      <td>4</td>\n",
       "    </tr>\n",
       "    <tr>\n",
       "      <th>49</th>\n",
       "      <td>none of which amounts to much of a story</td>\n",
       "      <td>0</td>\n",
       "      <td>negative</td>\n",
       "      <td>9</td>\n",
       "      <td>[none, amounts, much, story]</td>\n",
       "      <td>4</td>\n",
       "    </tr>\n",
       "    <tr>\n",
       "      <th>51</th>\n",
       "      <td>of which amounts to much of a story</td>\n",
       "      <td>1</td>\n",
       "      <td>neutral</td>\n",
       "      <td>8</td>\n",
       "      <td>[amounts, much, story]</td>\n",
       "      <td>3</td>\n",
       "    </tr>\n",
       "    <tr>\n",
       "      <th>52</th>\n",
       "      <td>which amounts to much of a story</td>\n",
       "      <td>1</td>\n",
       "      <td>neutral</td>\n",
       "      <td>7</td>\n",
       "      <td>[amounts, much, story]</td>\n",
       "      <td>3</td>\n",
       "    </tr>\n",
       "    <tr>\n",
       "      <th>53</th>\n",
       "      <td>amounts to much of a story</td>\n",
       "      <td>1</td>\n",
       "      <td>neutral</td>\n",
       "      <td>6</td>\n",
       "      <td>[amounts, much, story]</td>\n",
       "      <td>3</td>\n",
       "    </tr>\n",
       "    <tr>\n",
       "      <th>63</th>\n",
       "      <td>This quiet , introspective and entertaining in...</td>\n",
       "      <td>2</td>\n",
       "      <td>positive</td>\n",
       "      <td>11</td>\n",
       "      <td>[quiet, introspective, entertaining, independe...</td>\n",
       "      <td>6</td>\n",
       "    </tr>\n",
       "    <tr>\n",
       "      <th>64</th>\n",
       "      <td>This quiet , introspective and entertaining in...</td>\n",
       "      <td>2</td>\n",
       "      <td>positive</td>\n",
       "      <td>7</td>\n",
       "      <td>[quiet, introspective, entertaining, independent]</td>\n",
       "      <td>4</td>\n",
       "    </tr>\n",
       "  </tbody>\n",
       "</table>\n",
       "</div>"
      ]
     },
     "execution_count": 46,
     "metadata": {},
     "output_type": "execute_result"
    }
   ],
   "execution_count": 46
  },
  {
   "metadata": {},
   "cell_type": "markdown",
   "source": "# Dataset",
   "id": "24c5db207a683044"
  },
  {
   "metadata": {
    "ExecuteTime": {
     "end_time": "2024-09-07T03:09:46.048299Z",
     "start_time": "2024-09-07T03:09:40.341343Z"
    }
   },
   "cell_type": "code",
   "source": [
    "# Cargar y preprocesar datos\n",
    "  # Asegúrate de usar el nombre correcto del archivo\n",
    "df_criticas['Sentiment'] = df_criticas['Sentiment'].astype(int)\n",
    "\n",
    "# Función para tokenizar\n",
    "def tokenize(text, clean=False):\n",
    "    text = re.sub(r'[^\\w\\s]','',text)  \n",
    "    tokens = word_tokenize(text.lower())\n",
    "    # quitar stopwords\n",
    "    if clean:\n",
    "        tokens = [word for word in tokens if word not in stop_words]\n",
    "    return tokens\n",
    "\n",
    "# Construir vocabulario\n",
    "def build_vocab(texts, min_freq=2):\n",
    "    word_counts = Counter()\n",
    "    for text in texts:\n",
    "        word_counts.update(tokenize(text))\n",
    "    \n",
    "    vocab = {'<pad>': 0, '<unk>': 1}\n",
    "    for word, count in word_counts.items():\n",
    "        if count >= min_freq:\n",
    "            vocab[word] = len(vocab)\n",
    "    \n",
    "    return vocab\n",
    "\n",
    "vocab = build_vocab(df_criticas['Phrase'])\n"
   ],
   "id": "3c5e052118281689",
   "outputs": [],
   "execution_count": 47
  },
  {
   "metadata": {
    "ExecuteTime": {
     "end_time": "2024-09-07T03:09:46.057435Z",
     "start_time": "2024-09-07T03:09:46.049866Z"
    }
   },
   "cell_type": "code",
   "source": [
    "class ReviewsDataset(Dataset):\n",
    "    def __init__(self, reviews, sentiments, vocab, max_length=30):\n",
    "        self.reviews = reviews\n",
    "        self.sentiments = sentiments\n",
    "        self.vocab = vocab\n",
    "        self.max_length = max_length\n",
    "\n",
    "    def __len__(self):\n",
    "        return len(self.reviews)\n",
    "\n",
    "    def __getitem__(self, idx):\n",
    "        review = self.reviews[idx]\n",
    "        sentiment = self.sentiments[idx]\n",
    "        \n",
    "        # Tokenizar y convertir a índices\n",
    "        tokens = tokenize(review,clean=True)\n",
    "        \n",
    "        encoded = [self.vocab.get(token, self.vocab['<unk>']) for token in tokens]\n",
    "        \n",
    "        # Padding\n",
    "        if len(encoded) < self.max_length:\n",
    "            encoded = encoded + [self.vocab['<pad>']] * (self.max_length - len(encoded))\n",
    "        else:\n",
    "            encoded = encoded[:self.max_length]\n",
    "        \n",
    "        return torch.tensor(encoded), torch.tensor(sentiment)"
   ],
   "id": "1e4b33ef39d44c8b",
   "outputs": [],
   "execution_count": 48
  },
  {
   "metadata": {
    "ExecuteTime": {
     "end_time": "2024-09-07T03:09:46.077862Z",
     "start_time": "2024-09-07T03:09:46.058974Z"
    }
   },
   "cell_type": "code",
   "source": "dataset = ReviewsDataset(df_criticas['Phrase'].tolist(), df_criticas['Sentiment'].tolist(), vocab)",
   "id": "58df6c396eb3a2aa",
   "outputs": [],
   "execution_count": 49
  },
  {
   "metadata": {
    "ExecuteTime": {
     "end_time": "2024-09-07T03:09:46.089959Z",
     "start_time": "2024-09-07T03:09:46.080952Z"
    }
   },
   "cell_type": "code",
   "source": [
    "# sanity check\n",
    "for i in range(5):\n",
    "    print(dataset[i])"
   ],
   "id": "d38f6a783ba2fbd9",
   "outputs": [
    {
     "name": "stdout",
     "output_type": "stream",
     "text": [
      "(tensor([ 3,  5,  6,  8, 12, 14, 15, 12, 16, 19, 20, 22, 23, 25, 26,  0,  0,  0,\n",
      "         0,  0,  0,  0,  0,  0,  0,  0,  0,  0,  0,  0]), tensor(0))\n",
      "(tensor([ 3,  5,  6,  8, 12, 14,  0,  0,  0,  0,  0,  0,  0,  0,  0,  0,  0,  0,\n",
      "         0,  0,  0,  0,  0,  0,  0,  0,  0,  0,  0,  0]), tensor(1))\n",
      "(tensor([ 5,  6,  8, 12, 14,  0,  0,  0,  0,  0,  0,  0,  0,  0,  0,  0,  0,  0,\n",
      "         0,  0,  0,  0,  0,  0,  0,  0,  0,  0,  0,  0]), tensor(1))\n",
      "(tensor([ 5,  6,  8, 12, 14,  0,  0,  0,  0,  0,  0,  0,  0,  0,  0,  0,  0,  0,\n",
      "         0,  0,  0,  0,  0,  0,  0,  0,  0,  0,  0,  0]), tensor(1))\n",
      "(tensor([ 6,  8, 12, 14,  0,  0,  0,  0,  0,  0,  0,  0,  0,  0,  0,  0,  0,  0,\n",
      "         0,  0,  0,  0,  0,  0,  0,  0,  0,  0,  0,  0]), tensor(1))\n"
     ]
    }
   ],
   "execution_count": 50
  },
  {
   "metadata": {
    "ExecuteTime": {
     "end_time": "2024-09-07T03:09:46.145506Z",
     "start_time": "2024-09-07T03:09:46.090971Z"
    }
   },
   "cell_type": "code",
   "source": [
    "# Dividir datos\n",
    "train_df, test_df = train_test_split(df_criticas,stratify=df_criticas['Sentiment'], test_size=0.2, random_state=13)\n",
    "\n",
    "# Crear datasets\n",
    "train_dataset = ReviewsDataset(train_df['Phrase'].tolist(), train_df['Sentiment'].tolist(), vocab)\n",
    "test_dataset = ReviewsDataset(test_df['Phrase'].tolist(), test_df['Sentiment'].tolist(), vocab)"
   ],
   "id": "585d1df32130c638",
   "outputs": [],
   "execution_count": 51
  },
  {
   "metadata": {},
   "cell_type": "markdown",
   "source": "## RNN",
   "id": "98161e7fff8d704b"
  },
  {
   "metadata": {
    "ExecuteTime": {
     "end_time": "2024-09-07T03:09:46.157149Z",
     "start_time": "2024-09-07T03:09:46.147516Z"
    }
   },
   "cell_type": "code",
   "source": [
    "class SentimentRNN(nn.Module):\n",
    "    def __init__(self, vocab_size, embedding_dim, hidden_dim, output_dim, n_layers, dropout, bidirectional=True):\n",
    "        super().__init__()\n",
    "        self.embedding = nn.Embedding(vocab_size, embedding_dim, padding_idx=0)\n",
    "        self.rnn = nn.RNN(embedding_dim, hidden_dim, n_layers, dropout=dropout, batch_first=True, bidirectional=bidirectional)\n",
    "        self.fc = nn.Linear(hidden_dim * 2 if bidirectional else hidden_dim, output_dim)\n",
    "        self.dropout = nn.Dropout(dropout)\n",
    "\n",
    "    def forward(self, text):\n",
    "        embedded = self.dropout(self.embedding(text))\n",
    "        output, hidden = self.rnn(embedded)\n",
    "        if self.rnn.bidirectional:\n",
    "            hidden = self.dropout(torch.cat((hidden[-2,:,:], hidden[-1,:,:]), dim=1))\n",
    "        else:\n",
    "            hidden = self.dropout(hidden[-1,:,:])\n",
    "        return self.fc(hidden)"
   ],
   "id": "744de745abc9fe69",
   "outputs": [],
   "execution_count": 52
  },
  {
   "metadata": {},
   "cell_type": "markdown",
   "source": "configuracion de parametros",
   "id": "511de857dbca3501"
  },
  {
   "metadata": {
    "ExecuteTime": {
     "end_time": "2024-09-07T03:09:46.232965Z",
     "start_time": "2024-09-07T03:09:46.158678Z"
    }
   },
   "cell_type": "code",
   "source": [
    "\n",
    "# Configuración del modelo\n",
    "VOCAB_SIZE = len(vocab)\n",
    "EMBEDDING_DIM = 300\n",
    "HIDDEN_DIM = 256\n",
    "OUTPUT_DIM = 3\n",
    "N_LAYERS = 1\n",
    "DROPOUT = 0.2\n",
    "LR = 0.0001\n",
    "\n",
    "EPOCHS = 60\n",
    "\n",
    "# Inicializar modelo con RNN\n",
    "model_rnn = SentimentRNN(VOCAB_SIZE, EMBEDDING_DIM, HIDDEN_DIM, OUTPUT_DIM, N_LAYERS, DROPOUT)\n",
    "\n",
    "# Configurar optimizador y función de pérdida\n",
    "optimizer = optim.Adam(model_rnn.parameters(), lr=LR)\n",
    "criterion = nn.CrossEntropyLoss()\n",
    "\n",
    "# Crear DataLoader\n",
    "train_loader = DataLoader(train_dataset, batch_size=64, shuffle=True)\n",
    "test_loader = DataLoader(test_dataset, batch_size=64, shuffle=False)\n",
    "\n",
    "# Definir el dispositivo (CPU o GPU)\n",
    "device = torch.device('cuda' if torch.cuda.is_available() else 'cpu')\n",
    "model_rnn.to(device)\n"
   ],
   "id": "767305ad8108a9b4",
   "outputs": [
    {
     "data": {
      "text/plain": [
       "SentimentRNN(\n",
       "  (embedding): Embedding(15941, 300, padding_idx=0)\n",
       "  (rnn): RNN(300, 256, batch_first=True, dropout=0.2, bidirectional=True)\n",
       "  (fc): Linear(in_features=512, out_features=3, bias=True)\n",
       "  (dropout): Dropout(p=0.2, inplace=False)\n",
       ")"
      ]
     },
     "execution_count": 53,
     "metadata": {},
     "output_type": "execute_result"
    }
   ],
   "execution_count": 53
  },
  {
   "metadata": {},
   "cell_type": "markdown",
   "source": "entrenamiento del modelo",
   "id": "ee2feb43a3a4da79"
  },
  {
   "metadata": {
    "ExecuteTime": {
     "end_time": "2024-09-07T03:36:34.055283Z",
     "start_time": "2024-09-07T03:09:46.234976Z"
    }
   },
   "cell_type": "code",
   "source": [
    "train_losses = []\n",
    "\n",
    "# Barra de progreso para las épocas\n",
    "progress_bar = tqdm(range(EPOCHS * len(train_loader)))\n",
    "\n",
    "# Entrenamiento\n",
    "for epoch in range(EPOCHS):\n",
    "    model_rnn.train()\n",
    "    epoch_loss = 0\n",
    "\n",
    "    for batch in train_loader:\n",
    "        text, labels = batch\n",
    "        text, labels = text.to(device), labels.to(device)\n",
    "\n",
    "        optimizer.zero_grad()\n",
    "        output = model_rnn(text)\n",
    "        loss = criterion(output, labels)\n",
    "        loss.backward()\n",
    "        optimizer.step()\n",
    "\n",
    "        epoch_loss += loss.item()\n",
    "        progress_bar.update()\n",
    "\n",
    "    avg_loss = epoch_loss / len(train_loader)\n",
    "    train_losses.append(avg_loss)\n",
    "\n",
    "# Visualizar la curva de pérdida\n",
    "plt.figure(figsize=(10, 6))\n",
    "plt.plot(range(1, EPOCHS + 1), train_losses, label='Training Loss')\n",
    "plt.xlabel('Epochs')\n",
    "plt.ylabel('Loss')\n",
    "plt.title('Training Loss Curve')\n",
    "plt.legend()\n",
    "plt.show()\n"
   ],
   "id": "2ea6cc81b0246cbf",
   "outputs": [
    {
     "data": {
      "text/plain": [
       "  0%|          | 0/61680 [00:00<?, ?it/s]"
      ],
      "application/vnd.jupyter.widget-view+json": {
       "version_major": 2,
       "version_minor": 0,
       "model_id": "c93f58ed0c9a4dbab84f3a1522cb66e4"
      }
     },
     "metadata": {},
     "output_type": "display_data"
    },
    {
     "name": "stderr",
     "output_type": "stream",
     "text": [
      "100%|██████████| 61680/61680 [2:30:17<00:00,  6.84it/s]\n"
     ]
    },
    {
     "data": {
      "text/plain": [
       "<Figure size 1000x600 with 1 Axes>"
      ],
      "image/png": "[encoded data removed]"
     },
     "metadata": {},
     "output_type": "display_data"
    }
   ],
   "execution_count": 54
  },
  {
   "metadata": {
    "ExecuteTime": {
     "end_time": "2024-09-07T03:36:34.067445Z",
     "start_time": "2024-09-07T03:36:34.057381Z"
    }
   },
   "cell_type": "code",
   "source": [
    "def predict(model, loader, device):\n",
    "    model.eval()\n",
    "    all_preds = []\n",
    "    all_labels = []\n",
    "    all_probs = []  # Para almacenar las probabilidades\n",
    "    \n",
    "    with torch.no_grad():\n",
    "        for batch in tqdm(loader, desc=\"Predicting\"):\n",
    "            text, labels = batch\n",
    "            text, labels = text.to(device), labels.to(device)\n",
    "            output = model(text)\n",
    "            probs = torch.softmax(output, dim=1)\n",
    "            _, preds = torch.max(probs, 1)\n",
    "            all_preds.extend(preds.cpu().numpy())\n",
    "            all_labels.extend(labels.cpu().numpy())\n",
    "            all_probs.extend(probs.cpu().numpy())\n",
    "    \n",
    "    return np.array(all_preds), np.array(all_labels), np.array(all_probs)\n",
    "\n",
    "def evaluate_model(model, test_dataset, device, batch_size=64):\n",
    "    test_loader = DataLoader(test_dataset, batch_size=batch_size, shuffle=False)\n",
    "    y_pred, y_true, y_probs = predict(model, test_loader, device)\n",
    "    \n",
    "    # Calcular y mostrar la matriz de confusión\n",
    "    cm = confusion_matrix(y_true, y_pred)\n",
    "    sns.heatmap(cm, annot=True, fmt='d', cmap='Blues')\n",
    "    plt.xlabel('Predicted')\n",
    "    plt.ylabel('True')\n",
    "    plt.title('Confusion Matrix')\n",
    "    plt.show()\n",
    "    \n",
    "    # Mostrar el informe de clasificación\n",
    "    print(classification_report(y_true, y_pred))\n",
    "    \n",
    "    # Calcular y mostrar la precisión global\n",
    "    accuracy = accuracy_score(y_true, y_pred)\n",
    "    print(f\"Overall Accuracy: {accuracy:.4f}\")\n",
    "    \n",
    "    return y_pred, y_true, y_probs"
   ],
   "id": "7e7ae52d6e229a0d",
   "outputs": [],
   "execution_count": 55
  },
  {
   "metadata": {
    "ExecuteTime": {
     "end_time": "2024-09-07T03:36:36.833779Z",
     "start_time": "2024-09-07T03:36:34.068029Z"
    }
   },
   "cell_type": "code",
   "source": [
    "device = torch.device('cuda' if torch.cuda.is_available() else 'cpu')\n",
    "y_pred, y_true, y_probs = evaluate_model(model_rnn, test_dataset, device)"
   ],
   "id": "aaa103dc2e0cff55",
   "outputs": [
    {
     "data": {
      "text/plain": [
       "Predicting:   0%|          | 0/257 [00:00<?, ?it/s]"
      ],
      "application/vnd.jupyter.widget-view+json": {
       "version_major": 2,
       "version_minor": 0,
       "model_id": "108fec4ff5044f3bbf61dc75ab77b7b4"
      }
     },
     "metadata": {},
     "output_type": "display_data"
    },
    {
     "data": {
      "text/plain": [
       "<Figure size 640x480 with 2 Axes>"
      ],
      "image/png": "[encoded data removed]"
     },
     "metadata": {},
     "output_type": "display_data"
    },
    {
     "name": "stdout",
     "output_type": "stream",
     "text": [
      "              precision    recall  f1-score   support\n",
      "\n",
      "           0       0.72      0.68      0.70      4754\n",
      "           1       0.60      0.65      0.62      6109\n",
      "           2       0.78      0.74      0.76      5577\n",
      "\n",
      "    accuracy                           0.69     16440\n",
      "   macro avg       0.70      0.69      0.69     16440\n",
      "weighted avg       0.70      0.69      0.69     16440\n",
      "\n",
      "Overall Accuracy: 0.6903\n"
     ]
    }
   ],
   "execution_count": 56
  },
  {
   "metadata": {},
   "cell_type": "markdown",
   "source": "## LSTM",
   "id": "75ca2a33a0f9bbda"
  },
  {
   "metadata": {
    "ExecuteTime": {
     "end_time": "2024-09-07T03:36:36.842827Z",
     "start_time": "2024-09-07T03:36:36.835879Z"
    }
   },
   "cell_type": "code",
   "source": [
    "class SentimentLSTM(nn.Module):\n",
    "    def __init__(self, vocab_size, embedding_dim, hidden_dim, output_dim, n_layers, dropout, bidirectional=True, pad_idx=0):\n",
    "        super().__init__()\n",
    "        self.embedding = nn.Embedding(vocab_size, embedding_dim, padding_idx=pad_idx)\n",
    "        self.rnn = nn.LSTM(embedding_dim, \n",
    "                           hidden_dim, \n",
    "                           num_layers=n_layers, \n",
    "                           bidirectional=bidirectional, \n",
    "                           dropout=dropout if n_layers > 1 else 0, \n",
    "                           batch_first=True)\n",
    "        self.fc = nn.Linear(hidden_dim * 2 if bidirectional else hidden_dim, hidden_dim)\n",
    "        self.output = nn.Linear(hidden_dim, output_dim)\n",
    "        self.dropout = nn.Dropout(dropout)\n",
    "\n",
    "    def forward(self, text):\n",
    "        embedded = self.dropout(self.embedding(text))        \n",
    "        output, (hidden, cell) = self.rnn(embedded)\n",
    "        if self.rnn.bidirectional:\n",
    "            hidden = self.dropout(torch.cat((hidden[-2,:,:], hidden[-1,:,:]), dim=1))\n",
    "        else:\n",
    "            hidden = self.dropout(hidden[-1,:,:])\n",
    "        dense = F.relu(self.fc(hidden))\n",
    "        return self.output(dense)"
   ],
   "id": "3418a11796ee4822",
   "outputs": [],
   "execution_count": 57
  },
  {
   "metadata": {
    "ExecuteTime": {
     "end_time": "2024-09-07T03:36:36.932035Z",
     "start_time": "2024-09-07T03:36:36.844520Z"
    }
   },
   "cell_type": "code",
   "source": [
    "# Configuración del modelo\n",
    "VOCAB_SIZE = len(vocab)\n",
    "EMBEDDING_DIM = 300\n",
    "HIDDEN_DIM = 256\n",
    "OUTPUT_DIM = 3\n",
    "N_LAYERS = 2\n",
    "DROPOUT = 0.2\n",
    "EPOCHS = 60\n",
    "LR = 0.0001\n",
    "# Inicializar modelo\n",
    "model_lstm = SentimentLSTM(VOCAB_SIZE, EMBEDDING_DIM, HIDDEN_DIM, OUTPUT_DIM, N_LAYERS, DROPOUT)\n",
    "\n",
    "# Configurar optimizador y función de pérdida\n",
    "optimizer = optim.Adam(model_lstm.parameters(), lr=LR)\n",
    "criterion = nn.CrossEntropyLoss()\n",
    "\n",
    "# Crear DataLoader\n",
    "train_loader = DataLoader(train_dataset, batch_size=64, shuffle=True)\n",
    "\n",
    "# Configurar entrenamiento\n",
    "device = torch.device('cuda' if torch.cuda.is_available() else 'cpu')\n",
    "model_lstm.to(device)"
   ],
   "id": "435c22aa62890425",
   "outputs": [
    {
     "data": {
      "text/plain": [
       "SentimentLSTM(\n",
       "  (embedding): Embedding(15941, 300, padding_idx=0)\n",
       "  (rnn): LSTM(300, 256, num_layers=2, batch_first=True, dropout=0.2, bidirectional=True)\n",
       "  (fc): Linear(in_features=512, out_features=256, bias=True)\n",
       "  (output): Linear(in_features=256, out_features=3, bias=True)\n",
       "  (dropout): Dropout(p=0.2, inplace=False)\n",
       ")"
      ]
     },
     "execution_count": 58,
     "metadata": {},
     "output_type": "execute_result"
    }
   ],
   "execution_count": 58
  },
  {
   "metadata": {
    "ExecuteTime": {
     "end_time": "2024-09-07T04:13:53.169788Z",
     "start_time": "2024-09-07T03:36:36.933517Z"
    }
   },
   "cell_type": "code",
   "source": [
    "# Listas para almacenar las pérdidas\n",
    "train_losses = []\n",
    "# Barra de progreso para las épocas\n",
    "progress_bar = tqdm(range(EPOCHS * len(train_loader)))\n",
    "# Entrenamiento\n",
    "\n",
    "for epoch in range(EPOCHS):\n",
    "    model_lstm.train()\n",
    "    epoch_loss = 0\n",
    "    \n",
    "    for batch in train_loader:\n",
    "        text, labels = batch\n",
    "        text, labels = text.to(device), labels.to(device)\n",
    "        \n",
    "        optimizer.zero_grad()\n",
    "        output = model_lstm(text)\n",
    "        loss = criterion(output, labels)\n",
    "        loss.backward()\n",
    "        optimizer.step()\n",
    "        \n",
    "        epoch_loss += loss.item()\n",
    "    \n",
    "\n",
    "        progress_bar.update()\n",
    "    avg_loss = epoch_loss / len(train_loader)\n",
    "    train_losses.append(avg_loss)\n",
    "\n",
    "# Visualizar la curva de pérdida\n",
    "plt.figure(figsize=(10, 6))\n",
    "plt.plot(range(1, EPOCHS + 1), train_losses, label='Training Loss')\n",
    "plt.xlabel('Epochs')\n",
    "plt.ylabel('Loss')\n",
    "plt.title('Training Loss Curve')\n",
    "plt.legend()\n",
    "plt.show()"
   ],
   "id": "4814c50b13b547cb",
   "outputs": [
    {
     "data": {
      "text/plain": [
       "  0%|          | 0/61680 [00:00<?, ?it/s]"
      ],
      "application/vnd.jupyter.widget-view+json": {
       "version_major": 2,
       "version_minor": 0,
       "model_id": "8af0114f2a3643529b1ca4d6ccfe5cd1"
      }
     },
     "metadata": {},
     "output_type": "display_data"
    },
    {
     "data": {
      "text/plain": [
       "<Figure size 1000x600 with 1 Axes>"
      ],
      "image/png": "[encoded data removed]"
     },
     "metadata": {},
     "output_type": "display_data"
    }
   ],
   "execution_count": 59
  },
  {
   "metadata": {
    "ExecuteTime": {
     "end_time": "2024-09-07T04:13:56.668775Z",
     "start_time": "2024-09-07T04:13:53.171865Z"
    }
   },
   "cell_type": "code",
   "source": [
    "device = torch.device('cuda' if torch.cuda.is_available() else 'cpu')\n",
    "y_pred, y_true, y_probs = evaluate_model(model_lstm, test_dataset, device)"
   ],
   "id": "2956101d8e0e2d03",
   "outputs": [
    {
     "data": {
      "text/plain": [
       "Predicting:   0%|          | 0/257 [00:00<?, ?it/s]"
      ],
      "application/vnd.jupyter.widget-view+json": {
       "version_major": 2,
       "version_minor": 0,
       "model_id": "c77e2a99df9a4e429f57ce2e8627f0fb"
      }
     },
     "metadata": {},
     "output_type": "display_data"
    },
    {
     "data": {
      "text/plain": [
       "<Figure size 640x480 with 2 Axes>"
      ],
      "image/png": "[encoded data removed]"
     },
     "metadata": {},
     "output_type": "display_data"
    },
    {
     "name": "stdout",
     "output_type": "stream",
     "text": [
      "              precision    recall  f1-score   support\n",
      "\n",
      "           0       0.72      0.75      0.73      4754\n",
      "           1       0.63      0.60      0.62      6109\n",
      "           2       0.77      0.78      0.77      5577\n",
      "\n",
      "    accuracy                           0.70     16440\n",
      "   macro avg       0.71      0.71      0.71     16440\n",
      "weighted avg       0.70      0.70      0.70     16440\n",
      "\n",
      "Overall Accuracy: 0.7049\n"
     ]
    }
   ],
   "execution_count": 60
  },
  {
   "metadata": {},
   "cell_type": "markdown",
   "source": "## GRU",
   "id": "18dacd9cf9fb87a2"
  },
  {
   "metadata": {
    "ExecuteTime": {
     "end_time": "2024-09-07T04:13:56.677821Z",
     "start_time": "2024-09-07T04:13:56.670899Z"
    }
   },
   "cell_type": "code",
   "source": [
    "class SentimentGRU(nn.Module):\n",
    "    def __init__(self, vocab_size, embedding_dim, hidden_dim, output_dim, n_layers, dropout, bidirectional=True):\n",
    "        super().__init__()\n",
    "        self.embedding = nn.Embedding(vocab_size, embedding_dim, padding_idx=0)\n",
    "        self.rnn = nn.GRU(embedding_dim, hidden_dim, n_layers, dropout=dropout, batch_first=True, bidirectional=bidirectional)\n",
    "        self.fc = nn.Linear(hidden_dim * 2 if bidirectional else hidden_dim, output_dim)\n",
    "        self.dropout = nn.Dropout(dropout)\n",
    "\n",
    "    def forward(self, text):\n",
    "        embedded = self.dropout(self.embedding(text))\n",
    "        output, hidden = self.rnn(embedded)\n",
    "        if self.rnn.bidirectional:\n",
    "            hidden = self.dropout(torch.cat((hidden[-2,:,:], hidden[-1,:,:]), dim=1))\n",
    "        else:\n",
    "            hidden = self.dropout(hidden[-1,:,:])\n",
    "        return self.fc(hidden)"
   ],
   "id": "258aebb783fe2c3e",
   "outputs": [],
   "execution_count": 61
  },
  {
   "metadata": {
    "ExecuteTime": {
     "end_time": "2024-09-07T04:13:56.739726Z",
     "start_time": "2024-09-07T04:13:56.679903Z"
    }
   },
   "cell_type": "code",
   "source": [
    "# Configuración del modelo\n",
    "VOCAB_SIZE = len(vocab)\n",
    "EMBEDDING_DIM = 300\n",
    "HIDDEN_DIM = 256\n",
    "OUTPUT_DIM = 3\n",
    "N_LAYERS = 1\n",
    "DROPOUT = 0.2\n",
    "LR = 0.0001\n",
    "EPOCHS = 60\n",
    "# Inicializar modelo con GRU\n",
    "model_gru = SentimentGRU(VOCAB_SIZE, EMBEDDING_DIM, HIDDEN_DIM, OUTPUT_DIM, N_LAYERS, DROPOUT)\n",
    "\n",
    "# Configurar optimizador y función de pérdida\n",
    "optimizer = optim.Adam(model_gru.parameters(), lr=LR)\n",
    "criterion = nn.CrossEntropyLoss()\n",
    "\n",
    "# Crear DataLoader\n",
    "train_loader = DataLoader(train_dataset, batch_size=64, shuffle=True)\n",
    "test_loader = DataLoader(test_dataset, batch_size=64, shuffle=False)\n",
    "\n",
    "# Definir el dispositivo (CPU o GPU)\n",
    "device = torch.device('cuda' if torch.cuda.is_available() else 'cpu')\n",
    "model_gru.to(device)"
   ],
   "id": "dbddd657e6dac95a",
   "outputs": [
    {
     "data": {
      "text/plain": [
       "SentimentGRU(\n",
       "  (embedding): Embedding(15941, 300, padding_idx=0)\n",
       "  (rnn): GRU(300, 256, batch_first=True, dropout=0.2, bidirectional=True)\n",
       "  (fc): Linear(in_features=512, out_features=3, bias=True)\n",
       "  (dropout): Dropout(p=0.2, inplace=False)\n",
       ")"
      ]
     },
     "execution_count": 62,
     "metadata": {},
     "output_type": "execute_result"
    }
   ],
   "execution_count": 62
  },
  {
   "metadata": {
    "ExecuteTime": {
     "end_time": "2024-09-07T04:33:41.890254Z",
     "start_time": "2024-09-07T04:13:56.740807Z"
    }
   },
   "cell_type": "code",
   "source": [
    "train_losses = []\n",
    "\n",
    "# Barra de progreso para las épocas\n",
    "progress_bar = tqdm(range(EPOCHS * len(train_loader)))\n",
    "\n",
    "# Entrenamiento\n",
    "for epoch in range(EPOCHS):\n",
    "    model_gru.train()\n",
    "    epoch_loss = 0\n",
    "\n",
    "    for batch in train_loader:\n",
    "        text, labels = batch\n",
    "        text, labels = text.to(device), labels.to(device)\n",
    "\n",
    "        optimizer.zero_grad()\n",
    "        output = model_gru(text)\n",
    "        loss = criterion(output, labels)\n",
    "        loss.backward()\n",
    "        optimizer.step()\n",
    "\n",
    "        epoch_loss += loss.item()\n",
    "        progress_bar.update()\n",
    "\n",
    "    avg_loss = epoch_loss / len(train_loader)\n",
    "    train_losses.append(avg_loss)\n",
    "\n",
    "# Visualizar la curva de pérdida\n",
    "plt.figure(figsize=(10, 6))\n",
    "plt.plot(range(1, EPOCHS + 1), train_losses, label='Training Loss')\n",
    "plt.xlabel('Epochs')\n",
    "plt.ylabel('Loss')\n",
    "plt.title('Training Loss Curve')\n",
    "plt.legend()\n",
    "plt.show()\n"
   ],
   "id": "30ec484d20994d9c",
   "outputs": [
    {
     "data": {
      "text/plain": [
       "  0%|          | 0/61680 [00:00<?, ?it/s]"
      ],
      "application/vnd.jupyter.widget-view+json": {
       "version_major": 2,
       "version_minor": 0,
       "model_id": "cde4837012d3414f974a7219f7f8b2a5"
      }
     },
     "metadata": {},
     "output_type": "display_data"
    },
    {
     "data": {
      "text/plain": [
       "<Figure size 1000x600 with 1 Axes>"
      ],
      "image/png": "[encoded data removed]"
     },
     "metadata": {},
     "output_type": "display_data"
    }
   ],
   "execution_count": 63
  },
  {
   "metadata": {
    "ExecuteTime": {
     "end_time": "2024-09-07T04:33:44.806566Z",
     "start_time": "2024-09-07T04:33:41.892745Z"
    }
   },
   "cell_type": "code",
   "source": [
    "device = torch.device('cuda' if torch.cuda.is_available() else 'cpu')\n",
    "y_pred, y_true, y_probs = evaluate_model(model_gru, test_dataset, device)"
   ],
   "id": "b6d50b0fd900a139",
   "outputs": [
    {
     "data": {
      "text/plain": [
       "Predicting:   0%|          | 0/257 [00:00<?, ?it/s]"
      ],
      "application/vnd.jupyter.widget-view+json": {
       "version_major": 2,
       "version_minor": 0,
       "model_id": "7966187d2f8f41fda3a86fd722459513"
      }
     },
     "metadata": {},
     "output_type": "display_data"
    },
    {
     "data": {
      "text/plain": [
       "<Figure size 640x480 with 2 Axes>"
      ],
      "image/png": "[encoded data removed]"
     },
     "metadata": {},
     "output_type": "display_data"
    },
    {
     "name": "stdout",
     "output_type": "stream",
     "text": [
      "              precision    recall  f1-score   support\n",
      "\n",
      "           0       0.73      0.73      0.73      4754\n",
      "           1       0.62      0.62      0.62      6109\n",
      "           2       0.77      0.77      0.77      5577\n",
      "\n",
      "    accuracy                           0.70     16440\n",
      "   macro avg       0.71      0.71      0.71     16440\n",
      "weighted avg       0.70      0.70      0.70     16440\n",
      "\n",
      "Overall Accuracy: 0.7029\n"
     ]
    }
   ],
   "execution_count": 64
  }
 ],
 "metadata": {
  "kernelspec": {
   "display_name": "Python 3 (ipykernel)",
   "language": "python",
   "name": "python3"
  },
  "language_info": {
   "codemirror_mode": {
    "name": "ipython",
    "version": 3
   },
   "file_extension": ".py",
   "mimetype": "text/x-python",
   "name": "python",
   "nbconvert_exporter": "python",
   "pygments_lexer": "ipython3",
   "version": "3.12.4"
  }
 },
 "nbformat": 4,
 "nbformat_minor": 5
}
