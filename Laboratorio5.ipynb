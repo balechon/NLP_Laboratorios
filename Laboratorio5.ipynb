{
 "cells": [
  {
   "metadata": {},
   "cell_type": "markdown",
   "source": "# Lab CNNs",
   "id": "d605a64185787cc2"
  },
  {
   "metadata": {},
   "cell_type": "markdown",
   "source": [
    "## Integrantes\n",
    "- Jose Asitimbay\n",
    "- Brayan Lechon"
   ],
   "id": "fe99bc433ed543ac"
  },
  {
   "metadata": {},
   "cell_type": "markdown",
   "source": [
    "# Activities\n",
    "\n",
    "Repeat the sentiment analysis exercise from Lab 2. For this one you will consider the following models:\n",
    "\n",
    "- RNN\n",
    "- LSTM\n",
    "- GRU\n",
    "\n",
    "Compare the results with each other and the Naive Bayes model obtained in Lab 2. The group with the best weighted F1 score gets 3 extra points to the final grade, the second best get 2 points, and the third gets 1 point. \n",
    "\n",
    "To simplify, consider only 3 categories: negative, neutral and positive."
   ],
   "id": "ec670e63d791849b"
  },
  {
   "cell_type": "code",
   "id": "128217ab-576d-4f99-8feb-58ba99319da9",
   "metadata": {
    "ExecuteTime": {
     "end_time": "2024-09-04T00:40:35.821476Z",
     "start_time": "2024-09-04T00:40:22.547777Z"
    }
   },
   "source": [
    "import torch\n",
    "import pandas as pd\n",
    "import numpy as np\n",
    "import matplotlib.pyplot as plt\n",
    "import re\n",
    "from torch.utils.data import Dataset, DataLoader\n",
    "import torch.nn.functional as F\n",
    "import torch.nn as nn\n",
    "from nltk.corpus import stopwords\n",
    "from nltk.stem.snowball import SnowballStemmer\n",
    "from nltk.tokenize import RegexpTokenizer\n",
    "from collections import Counter\n",
    "from pathlib import Path\n",
    "\n",
    "\n",
    "\n",
    "import matplotlib.pyplot as plt\n",
    "from nltk.corpus import stopwords\n",
    "from collections import Counter\n",
    "\n",
    "from sklearn.feature_extraction.text import CountVectorizer\n",
    "\n",
    "from sklearn.model_selection import train_test_split\n",
    "from sklearn.naive_bayes import MultinomialNB\n",
    "from sklearn.metrics import accuracy_score, classification_report\n",
    "from sklearn.feature_extraction.text import TfidfVectorizer\n",
    "from imblearn.under_sampling import RandomUnderSampler\n",
    "# hide warnings\n",
    "import warnings\n",
    "warnings.filterwarnings('ignore')\n",
    "import string"
   ],
   "outputs": [],
   "execution_count": 1
  },
  {
   "metadata": {},
   "cell_type": "markdown",
   "source": "adaptamos el codigo para que funcione con cuda",
   "id": "140537a47d671c34"
  },
  {
   "cell_type": "code",
   "id": "350e7724-8d7c-40f2-ac7f-07000c10f38d",
   "metadata": {
    "ExecuteTime": {
     "end_time": "2024-09-04T00:40:36.411247Z",
     "start_time": "2024-09-04T00:40:35.822006Z"
    }
   },
   "source": [
    "if torch.cuda.is_available():\n",
    "    device = torch.device(\"cuda\")\n",
    "    x = torch.ones(1, device=device)\n",
    "    print(f\"GPU encontrada: {torch.cuda.get_device_name(0)}\")"
   ],
   "outputs": [
    {
     "name": "stdout",
     "output_type": "stream",
     "text": [
      "GPU encontrada: NVIDIA GeForce RTX 4060 Laptop GPU\n"
     ]
    }
   ],
   "execution_count": 2
  },
  {
   "metadata": {},
   "cell_type": "markdown",
   "source": "## Dataset",
   "id": "564139321a039a38"
  },
  {
   "metadata": {
    "ExecuteTime": {
     "end_time": "2024-09-04T01:03:15.278935Z",
     "start_time": "2024-09-04T01:03:15.042931Z"
    }
   },
   "cell_type": "code",
   "source": [
    "df = pd.read_csv('./data/train.tsv.zip', sep='\\t')\n",
    "df_criticas = df[['Phrase', 'Sentiment']].copy(deep=True)\n",
    "print(df_criticas.shape)\n",
    "df_criticas.head()\n"
   ],
   "id": "109c28cfbfb56d6f",
   "outputs": [
    {
     "name": "stdout",
     "output_type": "stream",
     "text": [
      "(156060, 2)\n"
     ]
    },
    {
     "data": {
      "text/plain": [
       "                                              Phrase  Sentiment\n",
       "0  A series of escapades demonstrating the adage ...          1\n",
       "1  A series of escapades demonstrating the adage ...          2\n",
       "2                                           A series          2\n",
       "3                                                  A          2\n",
       "4                                             series          2"
      ],
      "text/html": [
       "<div>\n",
       "<style scoped>\n",
       "    .dataframe tbody tr th:only-of-type {\n",
       "        vertical-align: middle;\n",
       "    }\n",
       "\n",
       "    .dataframe tbody tr th {\n",
       "        vertical-align: top;\n",
       "    }\n",
       "\n",
       "    .dataframe thead th {\n",
       "        text-align: right;\n",
       "    }\n",
       "</style>\n",
       "<table border=\"1\" class=\"dataframe\">\n",
       "  <thead>\n",
       "    <tr style=\"text-align: right;\">\n",
       "      <th></th>\n",
       "      <th>Phrase</th>\n",
       "      <th>Sentiment</th>\n",
       "    </tr>\n",
       "  </thead>\n",
       "  <tbody>\n",
       "    <tr>\n",
       "      <th>0</th>\n",
       "      <td>A series of escapades demonstrating the adage ...</td>\n",
       "      <td>1</td>\n",
       "    </tr>\n",
       "    <tr>\n",
       "      <th>1</th>\n",
       "      <td>A series of escapades demonstrating the adage ...</td>\n",
       "      <td>2</td>\n",
       "    </tr>\n",
       "    <tr>\n",
       "      <th>2</th>\n",
       "      <td>A series</td>\n",
       "      <td>2</td>\n",
       "    </tr>\n",
       "    <tr>\n",
       "      <th>3</th>\n",
       "      <td>A</td>\n",
       "      <td>2</td>\n",
       "    </tr>\n",
       "    <tr>\n",
       "      <th>4</th>\n",
       "      <td>series</td>\n",
       "      <td>2</td>\n",
       "    </tr>\n",
       "  </tbody>\n",
       "</table>\n",
       "</div>"
      ]
     },
     "execution_count": 41,
     "metadata": {},
     "output_type": "execute_result"
    }
   ],
   "execution_count": 41
  },
  {
   "metadata": {},
   "cell_type": "markdown",
   "source": "agrupamos los sentimientos en 3 categorias",
   "id": "aed9322e11d2ce4e"
  },
  {
   "metadata": {
    "ExecuteTime": {
     "end_time": "2024-09-04T01:03:48.625330Z",
     "start_time": "2024-09-04T01:03:48.561176Z"
    }
   },
   "cell_type": "code",
   "source": [
    "def sentiment_label(sentiment):\n",
    "    if sentiment <= 1:\n",
    "        return 0\n",
    "    elif sentiment == 2:\n",
    "        return 1\n",
    "    else:\n",
    "        return 2\n",
    "\n",
    "df_criticas['Sentiment'] = df['Sentiment'].apply(sentiment_label)\n",
    "df_criticas['Sentiment_label'] = df_criticas['Sentiment'].map({0: 'negative', 1: 'neutral', 2: 'positive'})"
   ],
   "id": "ab86595b8c7e4c34",
   "outputs": [],
   "execution_count": 45
  },
  {
   "metadata": {
    "ExecuteTime": {
     "end_time": "2024-09-04T01:05:27.238704Z",
     "start_time": "2024-09-04T01:05:26.642313Z"
    }
   },
   "cell_type": "code",
   "source": [
    "# boxplot of the length of the phrases by sentiment\n",
    "df_criticas['Phrase'] = df_criticas['Phrase'].astype(str)\n",
    "df_criticas['len'] = df_criticas['Phrase'].apply(lambda x: len(x.split()))\n",
    "df_criticas.boxplot(column='len', by='Sentiment_label', figsize=(10, 6))\n"
   ],
   "id": "4c6ff6f441ff3c06",
   "outputs": [
    {
     "data": {
      "text/plain": [
       "<Axes: title={'center': 'len'}, xlabel='Sentiment_label'>"
      ]
     },
     "execution_count": 47,
     "metadata": {},
     "output_type": "execute_result"
    },
    {
     "data": {
      "text/plain": [
       "<Figure size 1000x600 with 1 Axes>"
      ],
      "image/png": "[encoded data removed]"
     },
     "metadata": {},
     "output_type": "display_data"
    }
   ],
   "execution_count": 47
  },
  {
   "metadata": {},
   "cell_type": "markdown",
   "source": "",
   "id": "fb65e8dc38a5b7cf"
  },
  {
   "metadata": {},
   "cell_type": "markdown",
   "source": "### Preprocesamiento de texto",
   "id": "918ac38e865d3cb9"
  },
  {
   "metadata": {},
   "cell_type": "markdown",
   "source": "tokens del texto con una limpeza eliminando signos de puntuación y convirtiendo el texto a minúsculas",
   "id": "d03696220398e4db"
  },
  {
   "metadata": {
    "ExecuteTime": {
     "end_time": "2024-09-04T01:06:54.423621Z",
     "start_time": "2024-09-04T01:06:53.533292Z"
    }
   },
   "cell_type": "code",
   "source": [
    "stop_words = set(stopwords.words('english'))\n",
    "\n",
    "def clean_text(text):\n",
    "    text = text.lower()\n",
    "    text = re.sub(r'[^\\w\\s]','',text)    \n",
    "    return tokenizer(text)\n",
    "\n",
    "def tokenizer(text):\n",
    "    tokens = [word for word in text.split() if word.lower() not in stop_words]\n",
    "    return tokens\n",
    "\n",
    "df_criticas['Text'] = df_criticas['Phrase'].apply(clean_text)\n",
    "\n",
    "# filter phrases with less than 2 words"
   ],
   "id": "a6eee3890977dc8a",
   "outputs": [],
   "execution_count": 48
  },
  {
   "metadata": {},
   "cell_type": "markdown",
   "source": "filtramos a las frases con menos de 2 palabras",
   "id": "9e8f27d6ddf09f66"
  },
  {
   "metadata": {
    "ExecuteTime": {
     "end_time": "2024-09-04T01:08:15.771890Z",
     "start_time": "2024-09-04T01:08:15.711882Z"
    }
   },
   "cell_type": "code",
   "source": [
    "df_criticas['n_words'] = df_criticas['Text'].apply(len)\n",
    "df_criticas = df_criticas[df_criticas['n_words'] > 2]\n",
    "\n",
    "df_criticas.shape"
   ],
   "id": "9274f72fa7b4fef5",
   "outputs": [
    {
     "data": {
      "text/plain": [
       "(82196, 6)"
      ]
     },
     "execution_count": 49,
     "metadata": {},
     "output_type": "execute_result"
    }
   ],
   "execution_count": 49
  },
  {
   "metadata": {},
   "cell_type": "markdown",
   "source": "analizamos el texto limpio",
   "id": "e2ad96403e434248"
  },
  {
   "metadata": {
    "ExecuteTime": {
     "end_time": "2024-09-04T01:08:27.814062Z",
     "start_time": "2024-09-04T01:08:27.526407Z"
    }
   },
   "cell_type": "code",
   "source": [
    "# boxplot of the length of the phrases by sentiment\n",
    "df_criticas['len'] = df_criticas['Text'].apply(len)\n",
    "df_criticas.boxplot(column='len', by='Sentiment_label', figsize=(10, 6))\n"
   ],
   "id": "dc7d65e432205ebe",
   "outputs": [
    {
     "data": {
      "text/plain": [
       "<Axes: title={'center': 'len'}, xlabel='Sentiment_label'>"
      ]
     },
     "execution_count": 51,
     "metadata": {},
     "output_type": "execute_result"
    },
    {
     "data": {
      "text/plain": [
       "<Figure size 1000x600 with 1 Axes>"
      ],
      "image/png": "[encoded data removed]"
     },
     "metadata": {},
     "output_type": "display_data"
    }
   ],
   "execution_count": 51
  },
  {
   "metadata": {},
   "cell_type": "markdown",
   "source": "creamos los embeddings",
   "id": "ef31158f33bcec65"
  },
  {
   "metadata": {},
   "cell_type": "code",
   "outputs": [],
   "execution_count": null,
   "source": "",
   "id": "4b3c0b38b40bdd08"
  },
  {
   "metadata": {},
   "cell_type": "markdown",
   "source": "# Dataset",
   "id": "24c5db207a683044"
  },
  {
   "cell_type": "markdown",
   "id": "61e1277f-6e84-405c-8ea8-884543095d07",
   "metadata": {},
   "source": "## Baseline CNN"
  },
  {
   "metadata": {},
   "cell_type": "markdown",
   "source": "## RNN",
   "id": "98161e7fff8d704b"
  },
  {
   "metadata": {},
   "cell_type": "markdown",
   "source": "## LSTM",
   "id": "75ca2a33a0f9bbda"
  },
  {
   "metadata": {},
   "cell_type": "markdown",
   "source": "## GRU",
   "id": "18dacd9cf9fb87a2"
  },
  {
   "metadata": {},
   "cell_type": "markdown",
   "source": "# Conclusion",
   "id": "7f8e4c9d2721e5dd"
  }
 ],
 "metadata": {
  "kernelspec": {
   "display_name": "Python 3 (ipykernel)",
   "language": "python",
   "name": "python3"
  },
  "language_info": {
   "codemirror_mode": {
    "name": "ipython",
    "version": 3
   },
   "file_extension": ".py",
   "mimetype": "text/x-python",
   "name": "python",
   "nbconvert_exporter": "python",
   "pygments_lexer": "ipython3",
   "version": "3.12.4"
  }
 },
 "nbformat": 4,
 "nbformat_minor": 5
}
