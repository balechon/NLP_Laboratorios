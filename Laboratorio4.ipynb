{
 "cells": [
  {
   "metadata": {},
   "cell_type": "markdown",
   "source": "# Lab CNNs",
   "id": "d605a64185787cc2"
  },
  {
   "metadata": {},
   "cell_type": "markdown",
   "source": [
    "## Integrantes\n",
    "- Jose Asitimbay\n",
    "- Brayan Lechon"
   ],
   "id": "fe99bc433ed543ac"
  },
  {
   "metadata": {},
   "cell_type": "markdown",
   "source": [
    "# Activities\n",
    "\n",
    "- Create a CCN model to predict the next word in a sentence. \n",
    "- Use Cien años de soledad by Gabriel Garcia Marquez as the training text. "
   ],
   "id": "ec670e63d791849b"
  },
  {
   "cell_type": "code",
   "id": "128217ab-576d-4f99-8feb-58ba99319da9",
   "metadata": {
    "ExecuteTime": {
     "end_time": "2024-08-31T22:38:44.651338Z",
     "start_time": "2024-08-31T22:38:44.643186Z"
    }
   },
   "source": [
    "import torch\n",
    "import numpy as np\n",
    "import matplotlib.pyplot as plt\n",
    "import re\n",
    "from torch.utils.data import Dataset, DataLoader\n",
    "import torch.nn.functional as F\n",
    "import torch.nn as nn\n",
    "from nltk.corpus import stopwords\n",
    "from nltk.stem.snowball import SnowballStemmer\n",
    "from nltk.tokenize import RegexpTokenizer\n",
    "from collections import Counter\n",
    "from pathlib import Path"
   ],
   "outputs": [],
   "execution_count": 81
  },
  {
   "metadata": {},
   "cell_type": "markdown",
   "source": "adaptamos el codigo de la clase para que funcione con cuda",
   "id": "140537a47d671c34"
  },
  {
   "cell_type": "code",
   "id": "350e7724-8d7c-40f2-ac7f-07000c10f38d",
   "metadata": {
    "ExecuteTime": {
     "end_time": "2024-08-31T22:38:44.794950Z",
     "start_time": "2024-08-31T22:38:44.783168Z"
    }
   },
   "source": [
    "if torch.cuda.is_available():\n",
    "    device = torch.device(\"cuda\")\n",
    "    x = torch.ones(1, device=device)\n",
    "    print(f\"GPU encontrada: {torch.cuda.get_device_name(0)}\")"
   ],
   "outputs": [
    {
     "name": "stdout",
     "output_type": "stream",
     "text": [
      "GPU encontrada: NVIDIA GeForce RTX 4060 Laptop GPU\n"
     ]
    }
   ],
   "execution_count": 82
  },
  {
   "metadata": {},
   "cell_type": "markdown",
   "source": "## Dataset",
   "id": "564139321a039a38"
  },
  {
   "cell_type": "code",
   "id": "10dc3f66-516f-4bc2-bec0-d36595e09eb7",
   "metadata": {
    "ExecuteTime": {
     "end_time": "2024-08-31T22:38:44.821503Z",
     "start_time": "2024-08-31T22:38:44.812215Z"
    }
   },
   "source": [
    "ss = SnowballStemmer('spanish')\n",
    "sw = stopwords.words('spanish')\n",
    "tokenizer = RegexpTokenizer(r'\\w+')"
   ],
   "outputs": [],
   "execution_count": 83
  },
  {
   "cell_type": "code",
   "id": "2173ee82-a8cb-4b0e-99b3-aff4137eaea2",
   "metadata": {
    "ExecuteTime": {
     "end_time": "2024-08-31T22:38:44.867409Z",
     "start_time": "2024-08-31T22:38:44.852345Z"
    }
   },
   "source": [
    "path_data = Path('./data/gabriel_garcia_marquez_cien_annos_soledad.txt')\n",
    "text = open(path_data, 'r', encoding='utf-8').read().lower()"
   ],
   "outputs": [],
   "execution_count": 84
  },
  {
   "cell_type": "code",
   "id": "affc5ea5-e8c6-4205-891c-e2646771a197",
   "metadata": {
    "ExecuteTime": {
     "end_time": "2024-08-31T22:38:44.889149Z",
     "start_time": "2024-08-31T22:38:44.883267Z"
    }
   },
   "source": [
    "def split_tokens(text):\n",
    "    tokens = tokenizer.tokenize(text)\n",
    "    tokens = [w for w in tokens if w not in sw]\n",
    "    #tokens = [ss.stem(w) for w in tokens if w not in sw]\n",
    "    return tokens\n"
   ],
   "outputs": [],
   "execution_count": 85
  },
  {
   "cell_type": "code",
   "id": "f0346671-2a37-47b3-9b7e-29d5c47bbded",
   "metadata": {
    "ExecuteTime": {
     "end_time": "2024-08-31T22:38:45.167257Z",
     "start_time": "2024-08-31T22:38:44.911973Z"
    }
   },
   "source": [
    "tokens = split_tokens(text)"
   ],
   "outputs": [],
   "execution_count": 86
  },
  {
   "cell_type": "code",
   "id": "faf7c83c-80f6-489e-9b42-0d96b8c72c45",
   "metadata": {
    "ExecuteTime": {
     "end_time": "2024-08-31T23:14:27.186713Z",
     "start_time": "2024-08-31T23:14:27.182854Z"
    }
   },
   "source": "print(tokens[:5])",
   "outputs": [
    {
     "name": "stdout",
     "output_type": "stream",
     "text": [
      "['gabriel', 'garcía', 'márquez', 'cien', 'años']\n"
     ]
    }
   ],
   "execution_count": 127
  },
  {
   "cell_type": "code",
   "id": "8516685b-7a9e-4718-aaa1-200a14a738f2",
   "metadata": {
    "ExecuteTime": {
     "end_time": "2024-08-31T22:38:45.192768Z",
     "start_time": "2024-08-31T22:38:45.174950Z"
    }
   },
   "source": [
    "counts = Counter(tokens)"
   ],
   "outputs": [],
   "execution_count": 88
  },
  {
   "cell_type": "code",
   "id": "1c35a613-52c3-4eff-95e5-59d849fbbd77",
   "metadata": {
    "ExecuteTime": {
     "end_time": "2024-08-31T23:14:49.539067Z",
     "start_time": "2024-08-31T23:14:49.533912Z"
    }
   },
   "source": [
    "for i, (k, v) in enumerate(counts.items()):\n",
    "    print(k, v)\n",
    "    if i == 5:\n",
    "        break"
   ],
   "outputs": [
    {
     "name": "stdout",
     "output_type": "stream",
     "text": [
      "gabriel 184\n",
      "garcía 173\n",
      "márquez 241\n",
      "cien 182\n",
      "años 357\n",
      "soledad 217\n"
     ]
    }
   ],
   "execution_count": 128
  },
  {
   "cell_type": "code",
   "id": "513fd273-af69-42ff-a0b0-b4b288abdbd2",
   "metadata": {
    "ExecuteTime": {
     "end_time": "2024-08-31T22:38:45.232757Z",
     "start_time": "2024-08-31T22:38:45.224393Z"
    }
   },
   "source": [
    "counts_more_than_1 = {k:v for k,v in counts.items() if v > 1}"
   ],
   "outputs": [],
   "execution_count": 90
  },
  {
   "cell_type": "code",
   "id": "164a3d14-70c2-4b5e-b3db-ccfa7b36e552",
   "metadata": {
    "ExecuteTime": {
     "end_time": "2024-08-31T22:38:45.242684Z",
     "start_time": "2024-08-31T22:38:45.233833Z"
    }
   },
   "source": [
    "vocab = list(counts_more_than_1.keys())\n",
    "itot = dict(enumerate(vocab))\n",
    "ttoi = {v:k for k,v in itot.items()}"
   ],
   "outputs": [],
   "execution_count": 91
  },
  {
   "cell_type": "code",
   "id": "323ec7bc-3d82-4b03-84e4-e8c64767d689",
   "metadata": {
    "ExecuteTime": {
     "end_time": "2024-08-31T22:38:47.506476Z",
     "start_time": "2024-08-31T22:38:45.244632Z"
    }
   },
   "source": [
    "tokens_more_than_1 = [w for w in tokens if w in vocab]"
   ],
   "outputs": [],
   "execution_count": 92
  },
  {
   "cell_type": "markdown",
   "id": "dc0411dc-3582-489b-ac44-b3f047f726e6",
   "metadata": {},
   "source": [
    "### Let's prepare the window for word2vec"
   ]
  },
  {
   "cell_type": "code",
   "id": "2739b3e1-252b-4ff7-bf8a-918a1cffbc73",
   "metadata": {
    "ExecuteTime": {
     "end_time": "2024-08-31T22:38:47.513351Z",
     "start_time": "2024-08-31T22:38:47.507592Z"
    }
   },
   "source": [
    "def window(tokens, win=2):\n",
    "    output = []\n",
    "    for i, w in enumerate(tokens):\n",
    "        target = ttoi[w]\n",
    "        window = [tokens[i+j] for j in range(-win, win+1,1) \n",
    "                  if (i+j >= 0) & (i+j < len(tokens)) & (j != 0)]\n",
    "       # print(window)\n",
    "        output += [(target, ttoi[j]) for j in window]\n",
    "    return output"
   ],
   "outputs": [],
   "execution_count": 93
  },
  {
   "cell_type": "code",
   "id": "59c1eefd-5a6d-4963-a27b-aab83a64551c",
   "metadata": {
    "ExecuteTime": {
     "end_time": "2024-08-31T22:38:47.761780Z",
     "start_time": "2024-08-31T22:38:47.514917Z"
    }
   },
   "source": [
    "data_windowed = window(tokens_more_than_1, win=4)"
   ],
   "outputs": [],
   "execution_count": 94
  },
  {
   "cell_type": "code",
   "id": "03970290-6959-4fc6-b959-617194781b7c",
   "metadata": {
    "ExecuteTime": {
     "end_time": "2024-08-31T23:15:04.129859Z",
     "start_time": "2024-08-31T23:15:04.124080Z"
    }
   },
   "source": "data_windowed[:5]",
   "outputs": [
    {
     "data": {
      "text/plain": [
       "[(0, 1), (0, 2), (0, 3), (0, 4), (1, 0)]"
      ]
     },
     "execution_count": 129,
     "metadata": {},
     "output_type": "execute_result"
    }
   ],
   "execution_count": 129
  },
  {
   "cell_type": "code",
   "id": "481f4fc7-ba7f-46c2-926a-9cba626781a7",
   "metadata": {
    "ExecuteTime": {
     "end_time": "2024-08-31T22:38:47.797801Z",
     "start_time": "2024-08-31T22:38:47.792010Z"
    }
   },
   "source": [
    "class text_dataset(Dataset):\n",
    "    def __init__(self, data_windowed, vocab_size):\n",
    "        self.data = data_windowed\n",
    "        self.vocab_size = vocab_size\n",
    "        \n",
    "    def __len__(self):\n",
    "        return len(self.data)\n",
    "\n",
    "    def __getitem__(self, idx):\n",
    "        x0, y = self.data[idx]\n",
    "        x =  F.one_hot(torch.tensor(x0), num_classes=self.vocab_size)\n",
    "        return x, y\n"
   ],
   "outputs": [],
   "execution_count": 96
  },
  {
   "cell_type": "code",
   "id": "d5c05cf8-f7dd-458c-b719-17940bee45cd",
   "metadata": {
    "ExecuteTime": {
     "end_time": "2024-08-31T22:38:47.806621Z",
     "start_time": "2024-08-31T22:38:47.798964Z"
    }
   },
   "source": "dataset = text_dataset(data_windowed, len(vocab))",
   "outputs": [],
   "execution_count": 97
  },
  {
   "metadata": {
    "ExecuteTime": {
     "end_time": "2024-08-31T22:38:47.817501Z",
     "start_time": "2024-08-31T22:38:47.806621Z"
    }
   },
   "cell_type": "code",
   "source": [
    "#sanity check\n",
    "for i in range(5):\n",
    "    print(dataset[i])"
   ],
   "id": "1e3ab43d2af420e4",
   "outputs": [
    {
     "name": "stdout",
     "output_type": "stream",
     "text": [
      "(tensor([1, 0, 0,  ..., 0, 0, 0]), 1)\n",
      "(tensor([1, 0, 0,  ..., 0, 0, 0]), 2)\n",
      "(tensor([1, 0, 0,  ..., 0, 0, 0]), 3)\n",
      "(tensor([1, 0, 0,  ..., 0, 0, 0]), 4)\n",
      "(tensor([0, 1, 0,  ..., 0, 0, 0]), 0)\n"
     ]
    }
   ],
   "execution_count": 98
  },
  {
   "cell_type": "markdown",
   "id": "61e1277f-6e84-405c-8ea8-884543095d07",
   "metadata": {},
   "source": "## Baseline Neural Network"
  },
  {
   "cell_type": "code",
   "id": "97ec17a2-1b19-42fb-ab9d-6796a8e6c94d",
   "metadata": {
    "ExecuteTime": {
     "end_time": "2024-08-31T22:38:47.824202Z",
     "start_time": "2024-08-31T22:38:47.817501Z"
    }
   },
   "source": [
    "class Word2Vec(nn.Module):\n",
    "    def __init__(self, vocab_size, embedding_size):\n",
    "        super().__init__()\n",
    "        self.embed = nn.Embedding(vocab_size, embedding_size)\n",
    "        self.expand = nn.Linear(embedding_size, vocab_size, bias=False)\n",
    "\n",
    "    def forward(self, input):\n",
    "        hidden = self.embed(input.to(torch.int64))\n",
    "        logits = self.expand(hidden)\n",
    "        return logits"
   ],
   "outputs": [],
   "execution_count": 99
  },
  {
   "cell_type": "code",
   "id": "1f6986d1-121e-4ea5-9648-f2367c6ae4ac",
   "metadata": {
    "ExecuteTime": {
     "end_time": "2024-08-31T22:38:47.845095Z",
     "start_time": "2024-08-31T22:38:47.824202Z"
    }
   },
   "source": [
    "model = Word2Vec(len(vocab), 100)"
   ],
   "outputs": [],
   "execution_count": 100
  },
  {
   "cell_type": "code",
   "id": "42c6d862-9447-42b5-8889-8321c4764a2d",
   "metadata": {
    "ExecuteTime": {
     "end_time": "2024-08-31T22:38:47.852247Z",
     "start_time": "2024-08-31T22:38:47.845095Z"
    }
   },
   "source": [
    "model"
   ],
   "outputs": [
    {
     "data": {
      "text/plain": [
       "Word2Vec(\n",
       "  (embed): Embedding(7406, 100)\n",
       "  (expand): Linear(in_features=100, out_features=7406, bias=False)\n",
       ")"
      ]
     },
     "execution_count": 101,
     "metadata": {},
     "output_type": "execute_result"
    }
   ],
   "execution_count": 101
  },
  {
   "cell_type": "code",
   "id": "f62e5bb2-238a-4069-afca-0b0fe2f1ea2d",
   "metadata": {
    "ExecuteTime": {
     "end_time": "2024-08-31T22:38:47.864471Z",
     "start_time": "2024-08-31T22:38:47.852247Z"
    }
   },
   "source": [
    "LR = 3e-3\n",
    "EPOCHS = 10\n",
    "loss_fn = nn.CrossEntropyLoss()\n",
    "optimizer = torch.optim.AdamW(model.parameters(), lr=LR)\n",
    "device = torch.device(\"cuda\" if torch.cuda.is_available() else \"cpu\")\n",
    "model = model.to(device)\n"
   ],
   "outputs": [],
   "execution_count": 102
  },
  {
   "cell_type": "code",
   "id": "095f9631-e663-4636-a6ac-39d6a959c280",
   "metadata": {
    "ExecuteTime": {
     "end_time": "2024-08-31T22:45:33.415463Z",
     "start_time": "2024-08-31T22:38:47.866268Z"
    }
   },
   "source": [
    "from tqdm.auto import tqdm  # For progress bars\n",
    "\n",
    "dataloader = DataLoader(dataset, batch_size=64, shuffle=True)\n",
    "progress_bar = tqdm(range(EPOCHS * len(dataloader)))\n",
    "running_loss = []\n",
    "\n",
    "for epoch in range(EPOCHS):\n",
    "    epoch_loss = 0\n",
    "    for center, context in dataloader:\n",
    "        #center, context = center.to(mps_device), context.to(mps_device)\n",
    "        center = center.to(device).float()\n",
    "        context = context.to(device).float()\n",
    "        optimizer.zero_grad()\n",
    "        logits = model(input=context)\n",
    "        loss = loss_fn(logits, center)\n",
    "        epoch_loss += loss.item()\n",
    "        loss.backward()\n",
    "        optimizer.step()\n",
    "        progress_bar.update()\n",
    "    epoch_loss /= len(dataloader)\n",
    "    running_loss.append(epoch_loss)\n",
    "    \n",
    "progress_bar.close()\n"
   ],
   "outputs": [
    {
     "data": {
      "text/plain": [
       "  0%|          | 0/77490 [00:00<?, ?it/s]"
      ],
      "application/vnd.jupyter.widget-view+json": {
       "version_major": 2,
       "version_minor": 0,
       "model_id": "85267a33c1e14174a8f11cd0a3400bee"
      }
     },
     "metadata": {},
     "output_type": "display_data"
    }
   ],
   "execution_count": 103
  },
  {
   "cell_type": "code",
   "id": "d02a3ca5-ffc2-4fb0-8f5f-cfe80a5f8a3d",
   "metadata": {
    "ExecuteTime": {
     "end_time": "2024-08-31T22:45:33.574840Z",
     "start_time": "2024-08-31T22:45:33.417348Z"
    }
   },
   "source": "plt.plot(running_loss)",
   "outputs": [
    {
     "data": {
      "text/plain": [
       "[<matplotlib.lines.Line2D at 0x2456b3388c0>]"
      ]
     },
     "execution_count": 104,
     "metadata": {},
     "output_type": "execute_result"
    },
    {
     "data": {
      "text/plain": [
       "<Figure size 640x480 with 1 Axes>"
      ],
      "image/png": "[encoded data removed]"
     },
     "metadata": {},
     "output_type": "display_data"
    }
   ],
   "execution_count": 104
  },
  {
   "cell_type": "code",
   "id": "f1328c87-cbba-43b0-80c1-3ff82cb5ade4",
   "metadata": {
    "ExecuteTime": {
     "end_time": "2024-08-31T22:45:33.585251Z",
     "start_time": "2024-08-31T22:45:33.577387Z"
    }
   },
   "source": [
    "wordvecs = model.expand.weight.cpu().detach().numpy()"
   ],
   "outputs": [],
   "execution_count": 105
  },
  {
   "cell_type": "code",
   "id": "8cd3f65f-9e5e-4be9-abe8-1e1d0faa0170",
   "metadata": {
    "ExecuteTime": {
     "end_time": "2024-08-31T22:45:33.594558Z",
     "start_time": "2024-08-31T22:45:33.585251Z"
    }
   },
   "source": [
    "from scipy.spatial import distance\n",
    "import numpy as np\n",
    "\n",
    "def get_distance_matrix(wordvecs, metric):\n",
    "    dist_matrix = distance.squareform(distance.pdist(wordvecs, metric))\n",
    "    return dist_matrix\n",
    "\n",
    "# n * (n-1) / 2\n",
    "def get_k_similar_words(word, dist_matrix, k=10):\n",
    "    idx = ttoi[word]\n",
    "    dists = dist_matrix[idx]\n",
    "    ind = np.argpartition(dists, k)[:k+1]\n",
    "    ind = ind[np.argsort(dists[ind])][1:]\n",
    "    out = [(i, itot[i], dists[i]) for i in ind]\n",
    "    return out"
   ],
   "outputs": [],
   "execution_count": 106
  },
  {
   "cell_type": "code",
   "id": "c265eb73-629c-4280-ab65-cfeeb4c0bdf8",
   "metadata": {
    "ExecuteTime": {
     "end_time": "2024-08-31T22:45:35.881237Z",
     "start_time": "2024-08-31T22:45:33.594558Z"
    }
   },
   "source": [
    "dmat = get_distance_matrix(wordvecs, 'cosine')\n",
    "tokens_test = ['aureliano', 'coronel', 'macondo', 'casa', 'pueblo', 'melquíades', 'arcadio', 'úrsula']\n",
    "# tokens_test = [ss.stem(w) for w in tokens_test if w not in sw]\n",
    "for word in tokens_test:\n",
    "    print(word, [t[1] for t in get_k_similar_words(word, dmat, k=10)], \"\\n\")"
   ],
   "outputs": [
    {
     "name": "stdout",
     "output_type": "stream",
     "text": [
      "aureliano ['segundo', 'coronel', 'buendía', 'arcadio', 'úrsula', 'casa', 'josé', 'dijo', 'márquez', 'mientras'] \n",
      "\n",
      "coronel ['gerineldo', 'buendía', 'márquez', 'aureliano', 'condenado', 'promovió', 'mando', 'confidencial', 'general', 'moneada'] \n",
      "\n",
      "macondo ['habitantes', 'primeros', 'sierra', 'llegado', 'políticas', 'según', 'fundación', 'llegaron', 'talleres', 'vagones'] \n",
      "\n",
      "casa ['úrsula', 'aureliano', 'mientras', 'después', 'andaba', 'fernanda', 'dijo', 'hizo', 'si', 'segundo'] \n",
      "\n",
      "pueblo ['cobrar', 'respaldo', 'falsos', 'dispensarios', 'rosados', 'proclamas', 'ordenaron', 'señorial', 'vano', 'escapaba'] \n",
      "\n",
      "melquíades ['claves', 'demonio', 'ciencia', 'desenterrar', 'mágicos', 'distracción', 'tribu', 'laboratorio', 'lupa', 'prodigioso'] \n",
      "\n",
      "arcadio ['josé', 'buendía', 'aureliano', 'segundo', 'hizo', 'rebeca', 'lanza', 'torrencial', 'aldea', 'empecinó'] \n",
      "\n",
      "úrsula ['amaranta', 'casa', 'aureliano', 'dijo', 'tan', 'dos', 'cuenta', 'vez', 'fernanda', 'tiempo'] \n",
      "\n"
     ]
    }
   ],
   "execution_count": 107
  },
  {
   "metadata": {},
   "cell_type": "markdown",
   "source": "## CNN",
   "id": "98161e7fff8d704b"
  },
  {
   "metadata": {
    "ExecuteTime": {
     "end_time": "2024-08-31T23:01:27.666117Z",
     "start_time": "2024-08-31T23:01:27.656920Z"
    }
   },
   "cell_type": "code",
   "source": [
    "class CNNWord2Vec(nn.Module):\n",
    "    def __init__(self, vocab_size, hidden_size=100):\n",
    "        super().__init__()\n",
    "        self.vocab_size = vocab_size\n",
    "        self.conv = nn.Conv1d(in_channels=vocab_size, out_channels=hidden_size, kernel_size=1)\n",
    "        self.fc = nn.Linear(hidden_size, vocab_size)\n",
    "    def forward(self, x):\n",
    "\n",
    "        x = x.unsqueeze(-1)     \n",
    "        conv_out = F.relu(self.conv(x))  \n",
    "        conv_out = conv_out.squeeze(-1)  \n",
    "        logits = self.fc(conv_out )  \n",
    "        \n",
    "        return logits"
   ],
   "id": "95917267da3f0ebc",
   "outputs": [],
   "execution_count": 118
  },
  {
   "metadata": {
    "ExecuteTime": {
     "end_time": "2024-08-31T23:01:30.213217Z",
     "start_time": "2024-08-31T23:01:30.193212Z"
    }
   },
   "cell_type": "code",
   "source": [
    "model = CNNWord2Vec(len(vocab), hidden_size=100)\n",
    "model = model.to(device)"
   ],
   "id": "6225db14364ae481",
   "outputs": [],
   "execution_count": 119
  },
  {
   "metadata": {
    "ExecuteTime": {
     "end_time": "2024-08-31T23:01:31.897460Z",
     "start_time": "2024-08-31T23:01:31.892380Z"
    }
   },
   "cell_type": "code",
   "source": [
    "LR = 3e-3\n",
    "EPOCHS = 10\n",
    "loss_fn = nn.CrossEntropyLoss()\n",
    "optimizer = torch.optim.AdamW(model.parameters(), lr=LR)\n",
    "device = torch.device(\"cuda\" if torch.cuda.is_available() else \"cpu\")\n"
   ],
   "id": "3f880b009b14c6a9",
   "outputs": [],
   "execution_count": 120
  },
  {
   "metadata": {
    "ExecuteTime": {
     "end_time": "2024-08-31T23:10:58.599115Z",
     "start_time": "2024-08-31T23:01:34.102159Z"
    }
   },
   "cell_type": "code",
   "source": [
    "dataloader = DataLoader(dataset, batch_size=64, shuffle=True)\n",
    "progress_bar = tqdm(range(EPOCHS * len(dataloader)))\n",
    "running_loss = []\n",
    "\n",
    "for epoch in range(EPOCHS):\n",
    "    epoch_loss = 0\n",
    "    for context, center in dataloader:\n",
    "        context = context.to(device).float()\n",
    "        center = center.to(device).long()  \n",
    "        \n",
    "        optimizer.zero_grad()\n",
    "        logits = model(context)\n",
    "        loss = loss_fn(logits, center)\n",
    "        epoch_loss += loss.item()\n",
    "        loss.backward()\n",
    "        optimizer.step()\n",
    "        progress_bar.update()\n",
    "    \n",
    "    epoch_loss /= len(dataloader)\n",
    "    running_loss.append(epoch_loss)\n",
    "\n",
    "    progress_bar.set_description(f\"Época {epoch+1}/{EPOCHS}, Pérdida: {epoch_loss:.4f}\")\n",
    "\n",
    "progress_bar.close()"
   ],
   "id": "68f402b59d6dc53",
   "outputs": [
    {
     "data": {
      "text/plain": [
       "  0%|          | 0/77490 [00:00<?, ?it/s]"
      ],
      "application/vnd.jupyter.widget-view+json": {
       "version_major": 2,
       "version_minor": 0,
       "model_id": "412aea959ffa468eb4961bf6259f6728"
      }
     },
     "metadata": {},
     "output_type": "display_data"
    }
   ],
   "execution_count": 121
  },
  {
   "metadata": {
    "ExecuteTime": {
     "end_time": "2024-08-31T23:11:05.576369Z",
     "start_time": "2024-08-31T23:11:05.441826Z"
    }
   },
   "cell_type": "code",
   "source": "plt.plot(running_loss)",
   "id": "212475c990b785b1",
   "outputs": [
    {
     "data": {
      "text/plain": [
       "[<matplotlib.lines.Line2D at 0x2456b40cd10>]"
      ]
     },
     "execution_count": 122,
     "metadata": {},
     "output_type": "execute_result"
    },
    {
     "data": {
      "text/plain": [
       "<Figure size 640x480 with 1 Axes>"
      ],
      "image/png": "[encoded data removed]"
     },
     "metadata": {},
     "output_type": "display_data"
    }
   ],
   "execution_count": 122
  },
  {
   "metadata": {
    "ExecuteTime": {
     "end_time": "2024-08-31T23:11:45.636836Z",
     "start_time": "2024-08-31T23:11:45.629390Z"
    }
   },
   "cell_type": "code",
   "source": "wordvecs = model.fc.weight.cpu().detach().numpy()",
   "id": "f392bb137636b1b0",
   "outputs": [],
   "execution_count": 125
  },
  {
   "metadata": {
    "ExecuteTime": {
     "end_time": "2024-08-31T23:17:16.622876Z",
     "start_time": "2024-08-31T23:17:16.616437Z"
    }
   },
   "cell_type": "code",
   "source": "wordvecs",
   "id": "31cd8387497e6e63",
   "outputs": [
    {
     "data": {
      "text/plain": [
       "array([[-7.2928686e-03, -6.3257685e+00, -5.1353841e+00, ...,\n",
       "         2.4582796e+00, -1.4990793e+00, -1.4409471e-03],\n",
       "       [ 5.1121772e-03, -3.6389933e+00, -3.1030252e+00, ...,\n",
       "         2.3160658e+00, -9.3804038e-01,  3.1952057e-03],\n",
       "       [-9.3422206e-03, -2.4109969e+00, -3.9163914e+00, ...,\n",
       "         1.4485216e+00, -7.6781946e-01, -5.8908467e-03],\n",
       "       ...,\n",
       "       [-2.7680886e-03, -1.9162210e+01, -1.7685390e+01, ...,\n",
       "        -2.2124601e+01, -2.8930202e+01, -1.1004140e-02],\n",
       "       [-6.7342154e-04, -1.7834984e+01, -1.6277922e+01, ...,\n",
       "        -1.3508459e+00, -2.7195955e+01, -3.7469278e-04],\n",
       "       [ 7.4866945e-03, -1.7508488e+01, -1.6439016e+01, ...,\n",
       "        -2.0568800e+00, -2.7650387e+01, -1.0822445e-02]], dtype=float32)"
      ]
     },
     "execution_count": 130,
     "metadata": {},
     "output_type": "execute_result"
    }
   ],
   "execution_count": 130
  },
  {
   "metadata": {
    "ExecuteTime": {
     "end_time": "2024-08-31T23:11:48.751864Z",
     "start_time": "2024-08-31T23:11:46.795273Z"
    }
   },
   "cell_type": "code",
   "source": [
    "dmat = get_distance_matrix(wordvecs, 'cosine')\n",
    "tokens_test = ['aureliano', 'coronel', 'macondo', 'casa', 'pueblo', 'melquíades', 'arcadio', 'úrsula']\n",
    "# tokens_test = [ss.stem(w) for w in tokens_test if w not in sw]\n",
    "for word in tokens_test:\n",
    "    print(word, [t[1] for t in get_k_similar_words(word, dmat, k=10)], \"\\n\")"
   ],
   "id": "f08cd8170041a28a",
   "outputs": [
    {
     "name": "stdout",
     "output_type": "stream",
     "text": [
      "aureliano ['casa', 'entonces', 'úrsula', 'noche', 'dos', 'vio', 'sólo', 'tiempo', 'volvió', 'alarmó'] \n",
      "\n",
      "coronel ['entonces', 'dijo', 'úrsula', 'guerra', 'vio', 'aureliano', 'casa', 'volvió', 'segundo', 'gerineldo'] \n",
      "\n",
      "macondo ['tiempo', 'tan', 'después', 'guerra', 'padre', 'sólo', 'sino', 'burlarse', 'vida', 'mandaran'] \n",
      "\n",
      "casa ['úrsula', 'mientras', 'sólo', 'tiempo', 'aquella', 'dos', 'vio', 'meses', 'sino', 'fernanda'] \n",
      "\n",
      "pueblo ['podía', 'hombre', 'misma', 'aquella', 'tiempo', 'macondo', 'úrsula', 'fernanda', 'ningún', 'amaranta'] \n",
      "\n",
      "melquíades ['úrsula', 'hombres', 'entonces', 'sino', 'amor', 'mientras', 'siempre', 'realidad', 'noche', '76'] \n",
      "\n",
      "arcadio ['josé', 'empecinó', 'inmutarse', 'segundo', 'tiempo', 'casa', 'mientras', 'impaciencia', 'sacudido', 'inventar'] \n",
      "\n",
      "úrsula ['casa', 'sólo', 'entonces', 'mientras', 'hombre', 'mismo', 'fernanda', 'noche', 'dos', 'aquella'] \n",
      "\n"
     ]
    }
   ],
   "execution_count": 126
  },
  {
   "metadata": {},
   "cell_type": "markdown",
   "source": "# Conclusion",
   "id": "7f8e4c9d2721e5dd"
  }
 ],
 "metadata": {
  "kernelspec": {
   "display_name": "Python 3 (ipykernel)",
   "language": "python",
   "name": "python3"
  },
  "language_info": {
   "codemirror_mode": {
    "name": "ipython",
    "version": 3
   },
   "file_extension": ".py",
   "mimetype": "text/x-python",
   "name": "python",
   "nbconvert_exporter": "python",
   "pygments_lexer": "ipython3",
   "version": "3.12.4"
  }
 },
 "nbformat": 4,
 "nbformat_minor": 5
}
