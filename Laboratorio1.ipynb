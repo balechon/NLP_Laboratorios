{
 "cells": [
  {
   "metadata": {},
   "cell_type": "markdown",
   "source": "# Laboratorio 1",
   "id": "b225d923f130f3bb"
  },
  {
   "metadata": {},
   "cell_type": "markdown",
   "source": [
    "## Integrantes\n",
    "- Jose Asitimbay\n",
    "- Brayan Lechon"
   ],
   "id": "b4d80062286eec97"
  },
  {
   "metadata": {},
   "cell_type": "markdown",
   "source": [
    "## Descripción\n",
    "\n",
    "Build a rule-based chatbot. The bot will do the following activities:\n",
    "\n",
    "- When a greeting is recognized, start the conversation\n",
    "- You’ll give 2 options that the user can ask you about the weather or the stock market\n",
    "- You’ll reply and ask if they have a follow\n",
    "- A user can ask up to 2 questions\n",
    "- You’ll dismiss the user with a greeting"
   ],
   "id": "573732b3b6c6eeae"
  },
  {
   "metadata": {},
   "cell_type": "markdown",
   "source": "## Desarrollo\n",
   "id": "6a84ddb86146d7ba"
  },
  {
   "metadata": {
    "ExecuteTime": {
     "end_time": "2024-08-21T02:28:31.932753Z",
     "start_time": "2024-08-21T02:28:31.926651Z"
    }
   },
   "cell_type": "code",
   "source": [
    "import re\n",
    "from random import randint"
   ],
   "id": "462d2e38815d463b",
   "outputs": [],
   "execution_count": 7
  },
  {
   "metadata": {
    "ExecuteTime": {
     "end_time": "2024-08-21T02:23:50.769454Z",
     "start_time": "2024-08-21T02:23:50.760820Z"
    }
   },
   "cell_type": "code",
   "source": "saludo = re.compile(r'\\b(hola|como\\s+estas|hey|buenos\\s+dias|buenas\\s+noches)\\b')",
   "id": "2857684d279402e5",
   "outputs": [],
   "execution_count": 2
  },
  {
   "metadata": {
    "ExecuteTime": {
     "end_time": "2024-08-21T02:28:40.997040Z",
     "start_time": "2024-08-21T02:28:35.406495Z"
    }
   },
   "cell_type": "code",
   "source": [
    "random_saludos = [\"Hola\", \"Como estas\", \"Hey\", \"Un gusto saludarte\", \"Que bueno tenerte por aqui\"]\n",
    "start_message = input(\"Ingrese un saludo para empezar la conversación: \")\n",
    "start = False\n",
    "if saludo.match(start_message.lower()):\n",
    "    print(f\"{random_saludos[randint(0,len(random_saludos)-1)]}, en que te puedo ayudar?\")\n",
    "    start = True\n",
    "else:\n",
    "    print(\"Lo siento, no entendi lo que me dijiste\")\n",
    "    exit()\n",
    "    \n",
    "while start:\n",
    "    message = input(\"Ingrese un mensaje: \")\n",
    "    if message.lower() == \"salir\":\n",
    "        print(\"Hasta luego\")\n",
    "        break\n",
    "    else:\n",
    "        print(\"Lo siento, no entendi lo que me dijiste\")\n"
   ],
   "id": "b841a438a6832d86",
   "outputs": [
    {
     "name": "stdout",
     "output_type": "stream",
     "text": [
      "Como estas, en que te puedo ayuda?\n",
      "Hasta luego\n"
     ]
    }
   ],
   "execution_count": 8
  },
  {
   "metadata": {
    "ExecuteTime": {
     "end_time": "2024-08-21T02:24:07.890438Z",
     "start_time": "2024-08-21T02:24:07.886434Z"
    }
   },
   "cell_type": "code",
   "source": "",
   "id": "d4248d83949cb337",
   "outputs": [],
   "execution_count": 4
  }
 ],
 "metadata": {
  "kernelspec": {
   "display_name": "Python 3",
   "language": "python",
   "name": "python3"
  },
  "language_info": {
   "codemirror_mode": {
    "name": "ipython",
    "version": 2
   },
   "file_extension": ".py",
   "mimetype": "text/x-python",
   "name": "python",
   "nbconvert_exporter": "python",
   "pygments_lexer": "ipython2",
   "version": "2.7.6"
  }
 },
 "nbformat": 4,
 "nbformat_minor": 5
}
