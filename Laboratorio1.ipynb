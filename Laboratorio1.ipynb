{
 "cells": [
  {
   "metadata": {},
   "cell_type": "markdown",
   "source": "# Laboratorio 1",
   "id": "b225d923f130f3bb"
  },
  {
   "metadata": {},
   "cell_type": "markdown",
   "source": [
    "## Integrantes\n",
    "- Jose Asitimbay\n",
    "- Brayan Lechon"
   ],
   "id": "b4d80062286eec97"
  },
  {
   "metadata": {},
   "cell_type": "markdown",
   "source": "## Descripción",
   "id": "573732b3b6c6eeae"
  },
  {
   "metadata": {},
   "cell_type": "markdown",
   "source": "## Desarrollo",
   "id": "6a84ddb86146d7ba"
  },
  {
   "metadata": {},
   "cell_type": "code",
   "outputs": [],
   "execution_count": null,
   "source": "import re",
   "id": "462d2e38815d463b"
  },
  {
   "metadata": {},
   "cell_type": "code",
   "outputs": [],
   "execution_count": null,
   "source": "",
   "id": "24ed3a5c24886842"
  }
 ],
 "metadata": {
  "kernelspec": {
   "display_name": "Python 3",
   "language": "python",
   "name": "python3"
  },
  "language_info": {
   "codemirror_mode": {
    "name": "ipython",
    "version": 2
   },
   "file_extension": ".py",
   "mimetype": "text/x-python",
   "name": "python",
   "nbconvert_exporter": "python",
   "pygments_lexer": "ipython2",
   "version": "2.7.6"
  }
 },
 "nbformat": 4,
 "nbformat_minor": 5
}
