{
 "cells": [
  {
   "cell_type": "markdown",
   "id": "b225d923f130f3bb",
   "metadata": {},
   "source": [
    "# Laboratorio 1"
   ]
  },
  {
   "cell_type": "markdown",
   "id": "b4d80062286eec97",
   "metadata": {},
   "source": [
    "## Integrantes\n",
    "- Jose Asitimbay\n",
    "- Brayan Lechon"
   ]
  },
  {
   "cell_type": "markdown",
   "id": "573732b3b6c6eeae",
   "metadata": {},
   "source": [
    "## Descripción\n",
    "\n",
    "Build a rule-based chatbot. The bot will do the following activities:\n",
    "\n",
    "- When a greeting is recognized, start the conversation\n",
    "- You’ll give 2 options that the user can ask you about the weather or the stock market\n",
    "- You’ll reply and ask if they have a follow\n",
    "- A user can ask up to 2 questions\n",
    "- You’ll dismiss the user with a greeting"
   ]
  },
  {
   "cell_type": "markdown",
   "id": "6a84ddb86146d7ba",
   "metadata": {},
   "source": [
    "## Desarrollo\n"
   ]
  },
  {
   "cell_type": "markdown",
   "id": "cd30eb3a",
   "metadata": {},
   "source": [
    "librerias necesarias"
   ]
  },
  {
   "cell_type": "code",
   "execution_count": 1,
   "id": "462d2e38815d463b",
   "metadata": {
    "ExecuteTime": {
     "end_time": "2024-08-21T02:28:31.932753Z",
     "start_time": "2024-08-21T02:28:31.926651Z"
    }
   },
   "outputs": [],
   "source": [
    "import re\n",
    "from random import randint\n",
    "from datetime import datetime"
   ]
  },
  {
   "cell_type": "markdown",
   "id": "924e80fd",
   "metadata": {},
   "source": [
    "expresiones para manejar las interacciones"
   ]
  },
  {
   "cell_type": "code",
   "execution_count": 2,
   "id": "2857684d279402e5",
   "metadata": {
    "ExecuteTime": {
     "end_time": "2024-08-21T02:23:50.769454Z",
     "start_time": "2024-08-21T02:23:50.760820Z"
    }
   },
   "outputs": [],
   "source": [
    "regex_saludo = re.compile(r'\\b(hola|como\\s+estas|hey|buenos\\s+dias|buenas\\s+noches)\\b')\n",
    "regex_clima = re.compile(r'\\b(clima|temperatura|lluvia|soleado|nublado|tormenta)\\b')\n",
    "regex_stock_market = re.compile(r'\\b(stock|mercado|acciones|bolsa)\\b')"
   ]
  },
  {
   "cell_type": "markdown",
   "id": "7244e042",
   "metadata": {},
   "source": [
    "listas de interacciones por tematicas"
   ]
  },
  {
   "cell_type": "code",
   "execution_count": 3,
   "id": "a73575a3",
   "metadata": {},
   "outputs": [],
   "source": [
    "random_saludos = [\"Hola\", \"Como estas\", \"Hey\", \"Un gusto saludarte\", \"Que bueno tenerte por aqui\"]\n",
    "random_clima = [\"hoy esta soleado\", \"hoy esta nublado\", \"hoy esta lloviendo\", \"hoy hay tormenta\", \"hoy esta fresco\"]\n",
    "random_stock_market = [\"el mercado esta en alza\", \"el mercado esta en baja\", \"el mercado esta estable\", \"el mercado esta fluctuante\"]"
   ]
  },
  {
   "cell_type": "markdown",
   "id": "8d4183d7",
   "metadata": {},
   "source": [
    "creamos una funcion para analizar los mensajes en base a las tematicas que definimos previamente"
   ]
  },
  {
   "cell_type": "code",
   "execution_count": 5,
   "id": "6cf15683",
   "metadata": {},
   "outputs": [],
   "source": [
    "def analizar_pregunta(message):\n",
    "\n",
    "    if regex_clima.search(message):\n",
    "        print(\"Bot: Claro, ¿de que ciudad te gustaria saber el clima?\")\n",
    "        input_ciudad = input(\"Usuario: \")\n",
    "        print(\"User: \" + input_ciudad)\n",
    "        # validar que la ciudad sea solo una palabra\n",
    "        while len(input_ciudad.split()) > 1:\n",
    "            print(\"Bot: Por favor ingresa solo el nombre de la ciudad\")\n",
    "            input_ciudad = input(\"Usuario: \")\n",
    "            print(\"User: \" + input_ciudad)\n",
    "\n",
    "        print(f\"Bot: Para {input_ciudad} \" + random_clima[randint(0, 4)])\n",
    "    elif regex_stock_market.search(message):\n",
    "        print(f\"Bot: Claro he actualizado la informacion del mercado al dia de hoy {datetime.now().strftime('%Y-%m-%d')}\")\n",
    "        print(\"Bot: Cual sector es de tu interes?\")\n",
    "        input_sector = input(\"Usuario: \")\n",
    "        print(\"User: \" + input_sector)\n",
    "        # validar que el sector sea solo una palabra\n",
    "        while len(input_sector.split()) > 1:\n",
    "            print(\"Bot: Por favor ingresa solo el nombre del sector\")\n",
    "            input_sector = input(\"Usuario: \")\n",
    "            print(\"User: \" + input_sector)\n",
    "        print(f\"Bot: Para {input_sector} \" + random_stock_market[randint(0, 3)])\n",
    "        print(\"Bot: Existe alguna empresa en particular que te interese conocer más?\")\n",
    "        input_empresa = input(\"Usuario: \")\n",
    "        print(\"User: \" + input_empresa)\n",
    "        # generar una respuesta aleatoria con un crecimiento o decrecimiento de las acciones\n",
    "        movimiento = randint(-4, 10)\n",
    "        if movimiento < 0:\n",
    "            print(f\"Bot: Para {input_empresa} las acciones han disminuido un {abs(movimiento)}%\")\n",
    "            print(\"Bot: Mi recomendacion es esperar a que el mercado se estabilice\")\n",
    "        else:\n",
    "            print(f\"Bot: Para {input_empresa} las acciones han aumentado un {abs(movimiento)}%\")\n",
    "            print(\"Bot: Mi recomendacion es invertir en esta empresa\")\n",
    "\n",
    "    else:\n",
    "        print(\"Bot: Lo siento, no entendi lo que me dijiste o no tengo la respuesta a tu pregunta\")\n"
   ]
  },
  {
   "cell_type": "markdown",
   "id": "8a99bbc4",
   "metadata": {},
   "source": [
    "codigo para el bot, donde se empieza validando un saludo y despues entra a un ciclo repetivo de pregunta y respuesta en base al conocmineto definido"
   ]
  },
  {
   "cell_type": "code",
   "execution_count": 6,
   "id": "b841a438a6832d86",
   "metadata": {
    "ExecuteTime": {
     "end_time": "2024-08-21T02:28:40.997040Z",
     "start_time": "2024-08-21T02:28:35.406495Z"
    }
   },
   "outputs": [
    {
     "name": "stdout",
     "output_type": "stream",
     "text": [
      "Ingresa un mensaje para empezar la conversacion\n",
      "User:  hey\n",
      "Bot: Hey, en que te puedo ayudar?\n",
      "User:  quisiera saber como esta el mercado hoy\n",
      "Bot: Claro he actualizado la informacion del mercado al dia de hoy 2024-08-21\n",
      "Bot: Cual sector es de tu interes?\n",
      "User: telecomunicaciones\n",
      "Bot: Para telecomunicaciones el mercado esta en alza\n",
      "Bot: Existe alguna empresa en particular que te interese conocer más?\n",
      "User: Telefonica\n",
      "Bot: Para Telefonica las acciones han aumentado un 9%\n",
      "Bot: Mi recomendacion es invertir en esta empresa\n",
      "Bot: ¿Hay algo mas en lo que te pueda ayudar?\n",
      "User:  como esta el clima para hoy\n",
      "Bot: Claro, ¿de que ciudad te gustaria saber el clima?\n",
      "User: Quito\n",
      "Bot: Para Quito hoy esta soleado\n",
      "Bot: ¿Hay algo mas en lo que te pueda ayudar?\n",
      "User:  salir\n",
      "Bot: Hasta luego\n"
     ]
    }
   ],
   "source": [
    "print(\"Ingresa un mensaje para empezar la conversacion\")\n",
    "start_message = input(\"Mensaje: \")\n",
    "print(\"User: \", start_message)\n",
    "start = False\n",
    "# validar que el mensaje de inicio sea un saludo contemplado en el regex\n",
    "if regex_saludo.match(start_message.lower()):\n",
    "    print(f\"Bot: {random_saludos[randint(0,len(random_saludos)-1)]}, en que te puedo ayudar?\")\n",
    "    start = True\n",
    "else:\n",
    "    print(\"Bot: Lo siento, no entendi lo que me dijiste\")\n",
    "    exit()\n",
    "\n",
    "# loop para mantener la conversacion\n",
    "while start:\n",
    "    message = input(\"Ingrese un mensaje: \")\n",
    "    print(\"User: \", message)\n",
    "\n",
    "    if message.lower() == \"salir\": # condiciones para terminar la conversacion        \n",
    "        print(\"Bot: Hasta luego\")\n",
    "        break\n",
    "    else:\n",
    "        analizar_pregunta(message) # analizar el mensaje del usuario en base a las tematicas definidas\n",
    "        print(\"Bot: ¿Hay algo mas en lo que te pueda ayudar?\") # pregunta para volver a iniciar la conversacion\n",
    "        \n"
   ]
  }
 ],
 "metadata": {
  "kernelspec": {
   "display_name": "Python 3",
   "language": "python",
   "name": "python3"
  },
  "language_info": {
   "codemirror_mode": {
    "name": "ipython",
    "version": 3
   },
   "file_extension": ".py",
   "mimetype": "text/x-python",
   "name": "python",
   "nbconvert_exporter": "python",
   "pygments_lexer": "ipython3",
   "version": "3.12.3"
  }
 },
 "nbformat": 4,
 "nbformat_minor": 5
}
